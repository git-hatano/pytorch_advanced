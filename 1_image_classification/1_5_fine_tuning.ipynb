{
  "nbformat": 4,
  "nbformat_minor": 0,
  "metadata": {
    "colab": {
      "provenance": [],
      "toc_visible": true,
      "authorship_tag": "ABX9TyOG0zsL9wXtU/CldJWQdcB1",
      "include_colab_link": true
    },
    "kernelspec": {
      "name": "python3",
      "display_name": "Python 3"
    },
    "language_info": {
      "name": "python"
    },
    "gpuClass": "standard",
    "widgets": {
      "application/vnd.jupyter.widget-state+json": {
        "34d6ff328976484b8568d5d780f45225": {
          "model_module": "@jupyter-widgets/controls",
          "model_name": "HBoxModel",
          "model_module_version": "1.5.0",
          "state": {
            "_dom_classes": [],
            "_model_module": "@jupyter-widgets/controls",
            "_model_module_version": "1.5.0",
            "_model_name": "HBoxModel",
            "_view_count": null,
            "_view_module": "@jupyter-widgets/controls",
            "_view_module_version": "1.5.0",
            "_view_name": "HBoxView",
            "box_style": "",
            "children": [
              "IPY_MODEL_183e710a2187428397cdbb607772764d",
              "IPY_MODEL_f1a83d5d0172426ebff8652e3130d27b",
              "IPY_MODEL_3af9b14195b74a95a998917e3588ac7a"
            ],
            "layout": "IPY_MODEL_961361054dd44e59bfe40abe0d90d46a"
          }
        },
        "183e710a2187428397cdbb607772764d": {
          "model_module": "@jupyter-widgets/controls",
          "model_name": "HTMLModel",
          "model_module_version": "1.5.0",
          "state": {
            "_dom_classes": [],
            "_model_module": "@jupyter-widgets/controls",
            "_model_module_version": "1.5.0",
            "_model_name": "HTMLModel",
            "_view_count": null,
            "_view_module": "@jupyter-widgets/controls",
            "_view_module_version": "1.5.0",
            "_view_name": "HTMLView",
            "description": "",
            "description_tooltip": null,
            "layout": "IPY_MODEL_b3503d60b6284002b65293d5fbc55d09",
            "placeholder": "​",
            "style": "IPY_MODEL_4802d51419444c86abcbb9026e097807",
            "value": "100%"
          }
        },
        "f1a83d5d0172426ebff8652e3130d27b": {
          "model_module": "@jupyter-widgets/controls",
          "model_name": "FloatProgressModel",
          "model_module_version": "1.5.0",
          "state": {
            "_dom_classes": [],
            "_model_module": "@jupyter-widgets/controls",
            "_model_module_version": "1.5.0",
            "_model_name": "FloatProgressModel",
            "_view_count": null,
            "_view_module": "@jupyter-widgets/controls",
            "_view_module_version": "1.5.0",
            "_view_name": "ProgressView",
            "bar_style": "success",
            "description": "",
            "description_tooltip": null,
            "layout": "IPY_MODEL_56546a983c7f457881c1b849cde3d9e3",
            "max": 553433881,
            "min": 0,
            "orientation": "horizontal",
            "style": "IPY_MODEL_18fe52807bcb4beea488a71c14a6aea2",
            "value": 553433881
          }
        },
        "3af9b14195b74a95a998917e3588ac7a": {
          "model_module": "@jupyter-widgets/controls",
          "model_name": "HTMLModel",
          "model_module_version": "1.5.0",
          "state": {
            "_dom_classes": [],
            "_model_module": "@jupyter-widgets/controls",
            "_model_module_version": "1.5.0",
            "_model_name": "HTMLModel",
            "_view_count": null,
            "_view_module": "@jupyter-widgets/controls",
            "_view_module_version": "1.5.0",
            "_view_name": "HTMLView",
            "description": "",
            "description_tooltip": null,
            "layout": "IPY_MODEL_3be849b8667644559248a668d6192e92",
            "placeholder": "​",
            "style": "IPY_MODEL_4382f30008d548a39063ce3d843a9407",
            "value": " 528M/528M [00:02&lt;00:00, 227MB/s]"
          }
        },
        "961361054dd44e59bfe40abe0d90d46a": {
          "model_module": "@jupyter-widgets/base",
          "model_name": "LayoutModel",
          "model_module_version": "1.2.0",
          "state": {
            "_model_module": "@jupyter-widgets/base",
            "_model_module_version": "1.2.0",
            "_model_name": "LayoutModel",
            "_view_count": null,
            "_view_module": "@jupyter-widgets/base",
            "_view_module_version": "1.2.0",
            "_view_name": "LayoutView",
            "align_content": null,
            "align_items": null,
            "align_self": null,
            "border": null,
            "bottom": null,
            "display": null,
            "flex": null,
            "flex_flow": null,
            "grid_area": null,
            "grid_auto_columns": null,
            "grid_auto_flow": null,
            "grid_auto_rows": null,
            "grid_column": null,
            "grid_gap": null,
            "grid_row": null,
            "grid_template_areas": null,
            "grid_template_columns": null,
            "grid_template_rows": null,
            "height": null,
            "justify_content": null,
            "justify_items": null,
            "left": null,
            "margin": null,
            "max_height": null,
            "max_width": null,
            "min_height": null,
            "min_width": null,
            "object_fit": null,
            "object_position": null,
            "order": null,
            "overflow": null,
            "overflow_x": null,
            "overflow_y": null,
            "padding": null,
            "right": null,
            "top": null,
            "visibility": null,
            "width": null
          }
        },
        "b3503d60b6284002b65293d5fbc55d09": {
          "model_module": "@jupyter-widgets/base",
          "model_name": "LayoutModel",
          "model_module_version": "1.2.0",
          "state": {
            "_model_module": "@jupyter-widgets/base",
            "_model_module_version": "1.2.0",
            "_model_name": "LayoutModel",
            "_view_count": null,
            "_view_module": "@jupyter-widgets/base",
            "_view_module_version": "1.2.0",
            "_view_name": "LayoutView",
            "align_content": null,
            "align_items": null,
            "align_self": null,
            "border": null,
            "bottom": null,
            "display": null,
            "flex": null,
            "flex_flow": null,
            "grid_area": null,
            "grid_auto_columns": null,
            "grid_auto_flow": null,
            "grid_auto_rows": null,
            "grid_column": null,
            "grid_gap": null,
            "grid_row": null,
            "grid_template_areas": null,
            "grid_template_columns": null,
            "grid_template_rows": null,
            "height": null,
            "justify_content": null,
            "justify_items": null,
            "left": null,
            "margin": null,
            "max_height": null,
            "max_width": null,
            "min_height": null,
            "min_width": null,
            "object_fit": null,
            "object_position": null,
            "order": null,
            "overflow": null,
            "overflow_x": null,
            "overflow_y": null,
            "padding": null,
            "right": null,
            "top": null,
            "visibility": null,
            "width": null
          }
        },
        "4802d51419444c86abcbb9026e097807": {
          "model_module": "@jupyter-widgets/controls",
          "model_name": "DescriptionStyleModel",
          "model_module_version": "1.5.0",
          "state": {
            "_model_module": "@jupyter-widgets/controls",
            "_model_module_version": "1.5.0",
            "_model_name": "DescriptionStyleModel",
            "_view_count": null,
            "_view_module": "@jupyter-widgets/base",
            "_view_module_version": "1.2.0",
            "_view_name": "StyleView",
            "description_width": ""
          }
        },
        "56546a983c7f457881c1b849cde3d9e3": {
          "model_module": "@jupyter-widgets/base",
          "model_name": "LayoutModel",
          "model_module_version": "1.2.0",
          "state": {
            "_model_module": "@jupyter-widgets/base",
            "_model_module_version": "1.2.0",
            "_model_name": "LayoutModel",
            "_view_count": null,
            "_view_module": "@jupyter-widgets/base",
            "_view_module_version": "1.2.0",
            "_view_name": "LayoutView",
            "align_content": null,
            "align_items": null,
            "align_self": null,
            "border": null,
            "bottom": null,
            "display": null,
            "flex": null,
            "flex_flow": null,
            "grid_area": null,
            "grid_auto_columns": null,
            "grid_auto_flow": null,
            "grid_auto_rows": null,
            "grid_column": null,
            "grid_gap": null,
            "grid_row": null,
            "grid_template_areas": null,
            "grid_template_columns": null,
            "grid_template_rows": null,
            "height": null,
            "justify_content": null,
            "justify_items": null,
            "left": null,
            "margin": null,
            "max_height": null,
            "max_width": null,
            "min_height": null,
            "min_width": null,
            "object_fit": null,
            "object_position": null,
            "order": null,
            "overflow": null,
            "overflow_x": null,
            "overflow_y": null,
            "padding": null,
            "right": null,
            "top": null,
            "visibility": null,
            "width": null
          }
        },
        "18fe52807bcb4beea488a71c14a6aea2": {
          "model_module": "@jupyter-widgets/controls",
          "model_name": "ProgressStyleModel",
          "model_module_version": "1.5.0",
          "state": {
            "_model_module": "@jupyter-widgets/controls",
            "_model_module_version": "1.5.0",
            "_model_name": "ProgressStyleModel",
            "_view_count": null,
            "_view_module": "@jupyter-widgets/base",
            "_view_module_version": "1.2.0",
            "_view_name": "StyleView",
            "bar_color": null,
            "description_width": ""
          }
        },
        "3be849b8667644559248a668d6192e92": {
          "model_module": "@jupyter-widgets/base",
          "model_name": "LayoutModel",
          "model_module_version": "1.2.0",
          "state": {
            "_model_module": "@jupyter-widgets/base",
            "_model_module_version": "1.2.0",
            "_model_name": "LayoutModel",
            "_view_count": null,
            "_view_module": "@jupyter-widgets/base",
            "_view_module_version": "1.2.0",
            "_view_name": "LayoutView",
            "align_content": null,
            "align_items": null,
            "align_self": null,
            "border": null,
            "bottom": null,
            "display": null,
            "flex": null,
            "flex_flow": null,
            "grid_area": null,
            "grid_auto_columns": null,
            "grid_auto_flow": null,
            "grid_auto_rows": null,
            "grid_column": null,
            "grid_gap": null,
            "grid_row": null,
            "grid_template_areas": null,
            "grid_template_columns": null,
            "grid_template_rows": null,
            "height": null,
            "justify_content": null,
            "justify_items": null,
            "left": null,
            "margin": null,
            "max_height": null,
            "max_width": null,
            "min_height": null,
            "min_width": null,
            "object_fit": null,
            "object_position": null,
            "order": null,
            "overflow": null,
            "overflow_x": null,
            "overflow_y": null,
            "padding": null,
            "right": null,
            "top": null,
            "visibility": null,
            "width": null
          }
        },
        "4382f30008d548a39063ce3d843a9407": {
          "model_module": "@jupyter-widgets/controls",
          "model_name": "DescriptionStyleModel",
          "model_module_version": "1.5.0",
          "state": {
            "_model_module": "@jupyter-widgets/controls",
            "_model_module_version": "1.5.0",
            "_model_name": "DescriptionStyleModel",
            "_view_count": null,
            "_view_module": "@jupyter-widgets/base",
            "_view_module_version": "1.2.0",
            "_view_name": "StyleView",
            "description_width": ""
          }
        }
      }
    }
  },
  "cells": [
    {
      "cell_type": "markdown",
      "metadata": {
        "id": "view-in-github",
        "colab_type": "text"
      },
      "source": [
        "<a href=\"https://colab.research.google.com/github/git-hatano/pytorch_advanced/blob/main/1_image_classification/1_5_fine_tuning.ipynb\" target=\"_parent\"><img src=\"https://colab.research.google.com/assets/colab-badge.svg\" alt=\"Open In Colab\"/></a>"
      ]
    },
    {
      "cell_type": "markdown",
      "source": [],
      "metadata": {
        "id": "-j4YAAcRv5ox"
      }
    },
    {
      "cell_type": "markdown",
      "source": [
        "# 1-5 ファインチューニングの実装"
      ],
      "metadata": {
        "id": "ayzhIir0v6Xc"
      }
    },
    {
      "cell_type": "code",
      "execution_count": null,
      "metadata": {
        "id": "37kRgF0wvFt0"
      },
      "outputs": [],
      "source": [
        "import os\n",
        "import urllib.request\n",
        "import zipfile"
      ]
    },
    {
      "cell_type": "markdown",
      "source": [
        "## データの用意"
      ],
      "metadata": {
        "id": "pqvk5I1uv1nB"
      }
    },
    {
      "cell_type": "code",
      "source": [
        "# フォルダ「data」が存在しない場合は作成する\n",
        "data_dir = \"./data/\"\n",
        "if not os.path.exists(data_dir):\n",
        "    os.mkdir(data_dir)"
      ],
      "metadata": {
        "id": "cFBSFUBuva8D"
      },
      "execution_count": null,
      "outputs": []
    },
    {
      "cell_type": "code",
      "source": [
        "# 1.3節で使用するアリとハチの画像データをダウンロードし解凍します\n",
        "# PyTorchのチュートリアルで用意されているものです\n",
        "# https://pytorch.org/tutorials/beginner/transfer_learning_tutorial.html\n",
        "\n",
        "url = \"https://download.pytorch.org/tutorial/hymenoptera_data.zip\"\n",
        "save_path = os.path.join(data_dir, \"hymenoptera_data.zip\")\n",
        "\n",
        "if not os.path.exists(save_path):\n",
        "    urllib.request.urlretrieve(url, save_path)\n",
        "\n",
        "    # ZIPファイルを読み込み\n",
        "    zip = zipfile.ZipFile(save_path)\n",
        "    zip.extractall(data_dir)  # ZIPを解凍\n",
        "    zip.close()  # ZIPファイルをクローズ\n",
        "\n",
        "    # ZIPファイルを消去\n",
        "    os.remove(save_path)"
      ],
      "metadata": {
        "id": "nqMIdF3wvdPp"
      },
      "execution_count": null,
      "outputs": []
    },
    {
      "cell_type": "markdown",
      "source": [
        "## 前処理"
      ],
      "metadata": {
        "id": "UuKDvgp3wBZS"
      }
    },
    {
      "cell_type": "code",
      "source": [
        "# パッケージのimport\n",
        "import glob\n",
        "import os.path as osp\n",
        "import random\n",
        "import numpy as np\n",
        "import json\n",
        "from PIL import Image\n",
        "from tqdm import tqdm\n",
        "import matplotlib.pyplot as plt\n",
        "%matplotlib inline\n",
        "\n",
        "import torch\n",
        "import torch.nn as nn\n",
        "import torch.optim as optim\n",
        "import torch.utils.data as data\n",
        "import torchvision\n",
        "from torchvision import models, transforms\n",
        "\n",
        "# 乱数のシードを設定\n",
        "torch.manual_seed(1234)\n",
        "np.random.seed(1234)\n",
        "random.seed(1234)"
      ],
      "metadata": {
        "id": "iCJiNdDkvyNR"
      },
      "execution_count": null,
      "outputs": []
    },
    {
      "cell_type": "markdown",
      "source": [
        "### ImageTransform"
      ],
      "metadata": {
        "id": "l4XFUGg5weXX"
      }
    },
    {
      "cell_type": "code",
      "source": [
        "#入力画像の前処理をするクラス\n",
        "#訓練時と推論時で処理が異なる\n",
        "\n",
        "class ImageTransform():\n",
        "    \"\"\"\n",
        "    画像の前処理クラス。訓練時、検証時で異なる動作をする。\n",
        "    画像のサイズをリサイズし、色を標準化する。\n",
        "    訓練時はRandomResizeCropとRandamHorizonalFlipでデータオーギュメンテーションする。\n",
        "\n",
        "    Attributes\n",
        "    -------------------\n",
        "    resize: int\n",
        "        リサイズ先の画像の大きさ\n",
        "    mean: (R, G, B)\n",
        "        各色チャンネルの平均値\n",
        "    std: (R, G, B)\n",
        "        各色チャンネルの標準偏差\n",
        "    \"\"\"\n",
        "\n",
        "    def __init__(self, resize, mean, std):\n",
        "        self.data_transform = {\n",
        "            'train': transforms.Compose([\n",
        "                transforms.RandomResizedCrop(resize, scale=(0.5, 1.0)),\n",
        "                transforms.RandomHorizontalFlip(),\n",
        "                transforms.ToTensor(),\n",
        "                transforms.Normalize(mean, std)\n",
        "            ]),\n",
        "            'val': transforms.Compose([\n",
        "                transforms.Resize(resize),\n",
        "                transforms.CenterCrop(resize),\n",
        "                transforms.ToTensor(),\n",
        "                transforms.Normalize(mean, std)\n",
        "            ])\n",
        "        }\n",
        "    \n",
        "    def __call__(self, img, phase='train'):\n",
        "        \"\"\"\n",
        "        Parameters\n",
        "        ----------------\n",
        "        phase: 'train' or 'val'\n",
        "            前処理のモードを設定\n",
        "        \"\"\"\n",
        "        return self.data_transform[phase](img)"
      ],
      "metadata": {
        "id": "9hSjl5yqvgRt"
      },
      "execution_count": null,
      "outputs": []
    },
    {
      "cell_type": "markdown",
      "source": [
        "### make_datapath_list"
      ],
      "metadata": {
        "id": "LHsKkmqMwb_A"
      }
    },
    {
      "cell_type": "code",
      "source": [
        "#画像へのファイルパスのリストを作成する\n",
        "def make_datapath_list(phase='train'):\n",
        "    \"\"\"\n",
        "    データのパスを格納したリストを作成する。\n",
        "    Parameters\n",
        "    --------------------------\n",
        "    phase: 'train' or 'val'\n",
        "        訓練データか検証データかを指定する\n",
        "    Returns\n",
        "    --------------------------\n",
        "    path_list: list\n",
        "        データへのパスを格納したリスト\n",
        "    \"\"\"\n",
        "    rootpath = \"/content/data/hymenoptera_data\"\n",
        "    target_path = osp.join(rootpath+\"/\"+phase+\"/**/*.jpg\")\n",
        "    # print(target_path)\n",
        "\n",
        "    path_list = []\n",
        "    for path in glob.glob(target_path):\n",
        "        path_list.append(path)\n",
        "    return path_list"
      ],
      "metadata": {
        "id": "uSMJ6YPjwMpq"
      },
      "execution_count": null,
      "outputs": []
    },
    {
      "cell_type": "markdown",
      "source": [
        "### HymenopteraDataset"
      ],
      "metadata": {
        "id": "gyzR-rY8wY3_"
      }
    },
    {
      "cell_type": "code",
      "source": [
        "#Datasetを作成\n",
        "class HymenopteraDataset(data.Dataset):\n",
        "    \"\"\"\n",
        "    Datasetのクラス。PyTorchのデータセットクラスを継承。\n",
        "    Attributes\n",
        "    --------------------------\n",
        "    file_list: list\n",
        "        画像のパスを格納したリスト\n",
        "    transform: object\n",
        "        前処理クラスのインスタンス\n",
        "    phase: 'train' or 'val'\n",
        "        訓練か検証かを指定\n",
        "    \"\"\"\n",
        "    def __init__(self, file_list, transform=None, phase='train'):\n",
        "        self.file_list = file_list\n",
        "        self.transform = transform\n",
        "        self.phase = phase\n",
        "    \n",
        "    def __len__(self):\n",
        "        \"\"\"画像の枚数を返す\"\"\"\n",
        "        return len(self.file_list)\n",
        "    \n",
        "    def __getitem__(self, index):\n",
        "        \"\"\"前処理した画像のTensor形式のデータとラベルを取得\"\"\"\n",
        "        #index版目の画像をロード\n",
        "        img_path = self.file_list[index]\n",
        "        img = Image.open(img_path)\n",
        "\n",
        "        #画像の前処理を実行\n",
        "        img_transformed = self.transform(img, self.phase)\n",
        "\n",
        "        # 画像のラベルをファイル名から抜き出す\n",
        "        if self.phase == \"train\":\n",
        "            label = img_path.split(\"/\")[-2]\n",
        "        elif self.phase == \"val\":\n",
        "            label = img_path.split(\"/\")[-2]\n",
        "\n",
        "        # ラベルを数値に変更する\n",
        "        if label == \"ants\":\n",
        "            label = 0\n",
        "        elif label == \"bees\":\n",
        "            label = 1\n",
        "\n",
        "        return img_transformed, label"
      ],
      "metadata": {
        "id": "6zItZ_PiwNvg"
      },
      "execution_count": null,
      "outputs": []
    },
    {
      "cell_type": "markdown",
      "source": [
        "## Dataset, DataLoaderを作成"
      ],
      "metadata": {
        "id": "Exfztlo6xwt1"
      }
    },
    {
      "cell_type": "code",
      "source": [
        "#画像へのパスのリストを作成\n",
        "train_list = make_datapath_list(phase='train')\n",
        "val_list = make_datapath_list(phase='val')\n",
        "\n",
        "#Datasetを作成\n",
        "size = 224\n",
        "mean = (0.485, 0.456, 0.406)\n",
        "std = (0.229, 0.224, 0.225)\n",
        "\n",
        "train_dataset = HymenopteraDataset(file_list=train_list, transform=ImageTransform(size, mean, std), phase='train')\n",
        "val_dataset = HymenopteraDataset(file_list=val_list, transform=ImageTransform(size, mean, std), phase='val')\n",
        "\n",
        "#DataLoaderを作成\n",
        "batch_size = 32\n",
        "train_dataloader = torch.utils.data.DataLoader(train_dataset, batch_size=batch_size, shuffle=True)\n",
        "val_dataloader = torch.utils.data.DataLoader(val_dataset, batch_size=batch_size, shuffle=False)\n",
        "\n",
        "dataloaders_dict = {\"train\": train_dataloader, \"val\": val_dataloader}\n",
        "\n",
        "#動作確認\n",
        "batch_iterator = iter(dataloaders_dict[\"train\"])\n",
        "inputs, labels = next(batch_iterator)\n",
        "print(inputs.size())\n",
        "print(labels)"
      ],
      "metadata": {
        "colab": {
          "base_uri": "https://localhost:8080/"
        },
        "id": "pal4Q1bzwWcM",
        "outputId": "21670ce2-cda7-4a4f-d61f-e96702d635cf"
      },
      "execution_count": null,
      "outputs": [
        {
          "output_type": "stream",
          "name": "stdout",
          "text": [
            "torch.Size([32, 3, 224, 224])\n",
            "tensor([1, 1, 1, 0, 1, 1, 1, 0, 0, 0, 1, 1, 0, 0, 1, 1, 1, 0, 1, 1, 0, 0, 0, 1,\n",
            "        1, 1, 0, 0, 0, 0, 1, 1])\n"
          ]
        }
      ]
    },
    {
      "cell_type": "markdown",
      "source": [
        "## modelを作成"
      ],
      "metadata": {
        "id": "FclEVuVFx3aN"
      }
    },
    {
      "cell_type": "code",
      "source": [
        "#学習済VGG16をロード\n",
        "use_pretrained = True\n",
        "net = models.vgg16(pretrained=use_pretrained)\n",
        "\n",
        "#VGG16の最後の出力層の出力ユニットを2クラスに付け替え\n",
        "net.classifier[6] = nn.Linear(in_features=4096, out_features=2)\n",
        "\n",
        "#訓練モードに設定\n",
        "net.train()\n",
        "print('ネットワーク設定完了：学習済みの重みをロードし、訓練モードに設定しました')"
      ],
      "metadata": {
        "colab": {
          "base_uri": "https://localhost:8080/",
          "height": 173,
          "referenced_widgets": [
            "34d6ff328976484b8568d5d780f45225",
            "183e710a2187428397cdbb607772764d",
            "f1a83d5d0172426ebff8652e3130d27b",
            "3af9b14195b74a95a998917e3588ac7a",
            "961361054dd44e59bfe40abe0d90d46a",
            "b3503d60b6284002b65293d5fbc55d09",
            "4802d51419444c86abcbb9026e097807",
            "56546a983c7f457881c1b849cde3d9e3",
            "18fe52807bcb4beea488a71c14a6aea2",
            "3be849b8667644559248a668d6192e92",
            "4382f30008d548a39063ce3d843a9407"
          ]
        },
        "id": "77Bn4vgAxdF8",
        "outputId": "3d71cd4d-9b13-4434-c885-a51f65bda2b1"
      },
      "execution_count": null,
      "outputs": [
        {
          "output_type": "stream",
          "name": "stderr",
          "text": [
            "/usr/local/lib/python3.7/dist-packages/torchvision/models/_utils.py:209: UserWarning: The parameter 'pretrained' is deprecated since 0.13 and will be removed in 0.15, please use 'weights' instead.\n",
            "  f\"The parameter '{pretrained_param}' is deprecated since 0.13 and will be removed in 0.15, \"\n",
            "/usr/local/lib/python3.7/dist-packages/torchvision/models/_utils.py:223: UserWarning: Arguments other than a weight enum or `None` for 'weights' are deprecated since 0.13 and will be removed in 0.15. The current behavior is equivalent to passing `weights=VGG16_Weights.IMAGENET1K_V1`. You can also use `weights=VGG16_Weights.DEFAULT` to get the most up-to-date weights.\n",
            "  warnings.warn(msg)\n",
            "Downloading: \"https://download.pytorch.org/models/vgg16-397923af.pth\" to /root/.cache/torch/hub/checkpoints/vgg16-397923af.pth\n"
          ]
        },
        {
          "output_type": "display_data",
          "data": {
            "text/plain": [
              "  0%|          | 0.00/528M [00:00<?, ?B/s]"
            ],
            "application/vnd.jupyter.widget-view+json": {
              "version_major": 2,
              "version_minor": 0,
              "model_id": "34d6ff328976484b8568d5d780f45225"
            }
          },
          "metadata": {}
        },
        {
          "output_type": "stream",
          "name": "stdout",
          "text": [
            "ネットワーク設定完了：学習済みの重みをロードし、訓練モードに設定しました\n"
          ]
        }
      ]
    },
    {
      "cell_type": "markdown",
      "source": [
        "##損失関数を定義"
      ],
      "metadata": {
        "id": "_EnrxS2gyDGG"
      }
    },
    {
      "cell_type": "code",
      "source": [
        "criterion = nn.CrossEntropyLoss()"
      ],
      "metadata": {
        "id": "nrQ-4YfmyDzD"
      },
      "execution_count": null,
      "outputs": []
    },
    {
      "cell_type": "markdown",
      "source": [
        "## 最適化手法を設定"
      ],
      "metadata": {
        "id": "boL5Q0gNyO2z"
      }
    },
    {
      "cell_type": "code",
      "source": [
        "#学習させるパラメータを格納\n",
        "#今回は層によって学習率を変えるために分けて格納\n",
        "params_to_update1 = []\n",
        "params_to_update2 = []\n",
        "params_to_update3 = []\n",
        "\n",
        "#学習させる層のパラメータ名を指定\n",
        "update_param_names_1 = [\"features\"]\n",
        "update_param_names_2 = [\"classifier.0.weight\", \"classifier.0.bias\", \"classifier.3.weight\", \"classifier.3.bias\"]\n",
        "update_param_names_3 = [\"classifier.6.weight\", \"classifier.6.bias\"]\n",
        "\n",
        "#パラメータごとに各リストに格納\n",
        "for name, param in net.named_parameters():\n",
        "    if update_param_names_1[0] in name:\n",
        "        param.requires_grad = True\n",
        "        params_to_update1.append(param)\n",
        "        print(\"params_to_update1に格納 :\", name)\n",
        "    \n",
        "    elif name in update_param_names_2:\n",
        "        param.requires_grad = True\n",
        "        params_to_update2.append(param)\n",
        "        print(\"params_to_update_2に格納 :\", name)\n",
        "    \n",
        "    elif name in update_param_names_3:\n",
        "        param.requires_grad = True\n",
        "        params_to_update3.append(param)\n",
        "        print(\"params_to_update_3に格納 :\", name)\n",
        "    \n",
        "    else:\n",
        "        param.requires_grad = False\n",
        "        print(\"勾配計算なし。学習しない :\", name)"
      ],
      "metadata": {
        "colab": {
          "base_uri": "https://localhost:8080/"
        },
        "id": "1l_CTZUByPKp",
        "outputId": "ceab90ce-df49-4085-8fc8-41d9baee0d59"
      },
      "execution_count": null,
      "outputs": [
        {
          "output_type": "stream",
          "name": "stdout",
          "text": [
            "params_to_update1に格納 : features.0.weight\n",
            "params_to_update1に格納 : features.0.bias\n",
            "params_to_update1に格納 : features.2.weight\n",
            "params_to_update1に格納 : features.2.bias\n",
            "params_to_update1に格納 : features.5.weight\n",
            "params_to_update1に格納 : features.5.bias\n",
            "params_to_update1に格納 : features.7.weight\n",
            "params_to_update1に格納 : features.7.bias\n",
            "params_to_update1に格納 : features.10.weight\n",
            "params_to_update1に格納 : features.10.bias\n",
            "params_to_update1に格納 : features.12.weight\n",
            "params_to_update1に格納 : features.12.bias\n",
            "params_to_update1に格納 : features.14.weight\n",
            "params_to_update1に格納 : features.14.bias\n",
            "params_to_update1に格納 : features.17.weight\n",
            "params_to_update1に格納 : features.17.bias\n",
            "params_to_update1に格納 : features.19.weight\n",
            "params_to_update1に格納 : features.19.bias\n",
            "params_to_update1に格納 : features.21.weight\n",
            "params_to_update1に格納 : features.21.bias\n",
            "params_to_update1に格納 : features.24.weight\n",
            "params_to_update1に格納 : features.24.bias\n",
            "params_to_update1に格納 : features.26.weight\n",
            "params_to_update1に格納 : features.26.bias\n",
            "params_to_update1に格納 : features.28.weight\n",
            "params_to_update1に格納 : features.28.bias\n",
            "params_to_update_2に格納 : classifier.0.weight\n",
            "params_to_update_2に格納 : classifier.0.bias\n",
            "params_to_update_2に格納 : classifier.3.weight\n",
            "params_to_update_2に格納 : classifier.3.bias\n",
            "params_to_update_3に格納 : classifier.6.weight\n",
            "params_to_update_3に格納 : classifier.6.bias\n"
          ]
        }
      ]
    },
    {
      "cell_type": "code",
      "source": [
        "#最適化手法の設定\n",
        "optimizer = optim.SGD([\n",
        "    {\"params\": params_to_update1, \"lr\": 1e-4},\n",
        "    {\"params\": params_to_update2, \"lr\": 5e-4},\n",
        "    {\"params\": params_to_update3, \"lr\": 1e-3},\n",
        "], momentum=0.9)"
      ],
      "metadata": {
        "id": "V5CUvk6Y2XfA"
      },
      "execution_count": null,
      "outputs": []
    },
    {
      "cell_type": "markdown",
      "source": [
        "## 学習と検証"
      ],
      "metadata": {
        "id": "eoWQIvVN3q1H"
      }
    },
    {
      "cell_type": "code",
      "source": [
        "#モデルを学習させる関数\n",
        "def train_model(net, dataloaders_dict, criterion, optimizer, num_epochs):\n",
        "    #初期設定\n",
        "    #GPUが使えるかを確認\n",
        "    device = torch.device(\"cuda:0\" if torch.cuda.is_available() else \"cpu\")\n",
        "    print(f\"using devide : {device}\")\n",
        "    #ネットワークをGPUへ\n",
        "    net.to(device)\n",
        "    #ネットワークがある程度固定ならば高速化させる\n",
        "    torch.backends.cudnn.benchmark = True\n",
        "\n",
        "    for epoch in range(num_epochs):\n",
        "        print('Epoch {}/{}'.format(epoch+1, num_epochs))\n",
        "        print('-------------')\n",
        "\n",
        "        #epochごとに学習と検証をループ\n",
        "        for phase in ['train', 'val']:\n",
        "            if phase=='train':\n",
        "                net.train()\n",
        "            else:\n",
        "                net.eval()\n",
        "\n",
        "            epoch_loss = 0.0\n",
        "            epoch_corrects = 0\n",
        "            #未学習時の検証性能を確かめるため、epoch=0の学習は省略\n",
        "            if epoch==0 and phase=='train':\n",
        "                continue\n",
        "            \n",
        "            #dataloaderからミニバッチを取り出すループ\n",
        "            for inputs, labels in tqdm(dataloaders_dict[phase]):\n",
        "                #GPUが使えるならデータを送る\n",
        "                inputs = inputs.to(device)\n",
        "                labels = labels.to(device)\n",
        "                #optimizerを初期化\n",
        "                optimizer.zero_grad()\n",
        "\n",
        "                #forward\n",
        "                with torch.set_grad_enabled(phase=='train'):\n",
        "                    outputs = net(inputs)\n",
        "                    loss = criterion(outputs, labels)\n",
        "                    _, preds = torch.max(outputs, 1)#ラベルを予測\n",
        "\n",
        "                    #学習時はbackwardで勾配計算、パラメータの更新\n",
        "                    if phase=='train':\n",
        "                        loss.backward()\n",
        "                        optimizer.step()\n",
        "                    \n",
        "                    #lossの合計を更新\n",
        "                    epoch_loss += loss.item()*inputs.size(0)\n",
        "                    #正解数の合計を更新\n",
        "                    epoch_corrects += torch.sum(preds==labels.data)\n",
        "            \n",
        "            #epochごとのlossと正解率を表示\n",
        "            epoch_loss = epoch_loss / len(dataloaders_dict[phase].dataset)\n",
        "            epoch_acc = epoch_corrects.double() / len(dataloaders_dict[phase].dataset)\n",
        "            print('{} Loss: {:.4f} Acc: {:.4f}'.format(phase, epoch_loss, epoch_acc))"
      ],
      "metadata": {
        "id": "SJVxZWSk3tOp"
      },
      "execution_count": null,
      "outputs": []
    },
    {
      "cell_type": "code",
      "source": [
        "num_epochs = 2\n",
        "train_model(net, dataloaders_dict, criterion, optimizer, num_epochs)"
      ],
      "metadata": {
        "colab": {
          "base_uri": "https://localhost:8080/"
        },
        "id": "rDxSf4Ry5o70",
        "outputId": "7ea65869-aeee-49a7-82f6-a628d3068413"
      },
      "execution_count": null,
      "outputs": [
        {
          "output_type": "stream",
          "name": "stdout",
          "text": [
            "using devide : cuda:0\n",
            "Epoch 1/2\n",
            "-------------\n"
          ]
        },
        {
          "output_type": "stream",
          "name": "stderr",
          "text": [
            "100%|██████████| 5/5 [00:10<00:00,  2.01s/it]\n"
          ]
        },
        {
          "output_type": "stream",
          "name": "stdout",
          "text": [
            "val Loss: 0.6151 Acc: 0.6405\n",
            "Epoch 2/2\n",
            "-------------\n"
          ]
        },
        {
          "output_type": "stream",
          "name": "stderr",
          "text": [
            "100%|██████████| 8/8 [00:10<00:00,  1.27s/it]\n"
          ]
        },
        {
          "output_type": "stream",
          "name": "stdout",
          "text": [
            "train Loss: 0.4404 Acc: 0.7654\n"
          ]
        },
        {
          "output_type": "stream",
          "name": "stderr",
          "text": [
            "100%|██████████| 5/5 [00:01<00:00,  2.81it/s]"
          ]
        },
        {
          "output_type": "stream",
          "name": "stdout",
          "text": [
            "val Loss: 0.1950 Acc: 0.9412\n"
          ]
        },
        {
          "output_type": "stream",
          "name": "stderr",
          "text": [
            "\n"
          ]
        }
      ]
    },
    {
      "cell_type": "markdown",
      "source": [
        "#学習したネットワークを保存・ロード"
      ],
      "metadata": {
        "id": "wn2xKFWV6KZ1"
      }
    },
    {
      "cell_type": "code",
      "source": [
        "#パラメータの保存\n",
        "save_path = \"./weights_fine_tuning.pth\"\n",
        "torch.save(net.state_dict(), save_path)"
      ],
      "metadata": {
        "id": "IedNHBv96SyW"
      },
      "execution_count": null,
      "outputs": []
    },
    {
      "cell_type": "code",
      "source": [
        "#パラメータのロード\n",
        "load_path = \"./weights_fine_tuning.pth\"\n",
        "load_weights = torch.load(load_path)\n",
        "net.load_state_dict(load_weights)\n",
        "\n",
        "#GPU上で保存された重みをCPU上でロードする場合\n",
        "# load_weights = torch.load(load_path, map_location={\"cuda:0\": \"cpu\"})\n",
        "# net.load_state_dict(load_weights)"
      ],
      "metadata": {
        "colab": {
          "base_uri": "https://localhost:8080/"
        },
        "id": "--uj4hBp6sCx",
        "outputId": "b186c524-5879-4cc4-d0ff-00ccfa5eea20"
      },
      "execution_count": null,
      "outputs": [
        {
          "output_type": "execute_result",
          "data": {
            "text/plain": [
              "<All keys matched successfully>"
            ]
          },
          "metadata": {},
          "execution_count": 16
        }
      ]
    }
  ]
}