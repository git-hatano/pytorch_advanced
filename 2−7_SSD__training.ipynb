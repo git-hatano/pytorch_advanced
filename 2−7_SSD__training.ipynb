{
  "nbformat": 4,
  "nbformat_minor": 0,
  "metadata": {
    "colab": {
      "provenance": [],
      "authorship_tag": "ABX9TyO7clp2U5iw7kHAfcTPQhgy",
      "include_colab_link": true
    },
    "kernelspec": {
      "name": "python3",
      "display_name": "Python 3"
    },
    "language_info": {
      "name": "python"
    },
    "accelerator": "GPU",
    "gpuClass": "standard"
  },
  "cells": [
    {
      "cell_type": "markdown",
      "metadata": {
        "id": "view-in-github",
        "colab_type": "text"
      },
      "source": [
        "<a href=\"https://colab.research.google.com/github/git-hatano/pytorch_advanced/blob/main/2%E2%88%927_SSD__training.ipynb\" target=\"_parent\"><img src=\"https://colab.research.google.com/assets/colab-badge.svg\" alt=\"Open In Colab\"/></a>"
      ]
    },
    {
      "cell_type": "markdown",
      "source": [
        "#[2.7 学習と検証の実施](https://github.com/YutaroOgawa/pytorch_advanced/blob/master/2_objectdetection/2-7_SSD_training.ipynb)"
      ],
      "metadata": {
        "id": "WDh6yK613Qf6"
      }
    },
    {
      "cell_type": "markdown",
      "source": [
        "##事前準備"
      ],
      "metadata": {
        "id": "E91tPkdN3zDc"
      }
    },
    {
      "cell_type": "code",
      "source": [
        "import os\n",
        "import urllib.request\n",
        "import zipfile\n",
        "import tarfile"
      ],
      "metadata": {
        "id": "7XfxSVGt3pv5"
      },
      "execution_count": 1,
      "outputs": []
    },
    {
      "cell_type": "markdown",
      "source": [
        "utils のファイルをダウンロードし、下記のフォルダにアップロード"
      ],
      "metadata": {
        "id": "u2qaRDxh64oD"
      }
    },
    {
      "cell_type": "code",
      "execution_count": 2,
      "metadata": {
        "id": "AzaE4PJ23ISP"
      },
      "outputs": [],
      "source": [
        "utils_dir = \"./utils\"\n",
        "if not os.path.exists(utils_dir):\n",
        "    os.mkdir(utils_dir)"
      ]
    },
    {
      "cell_type": "code",
      "source": [
        "# フォルダ「data」が存在しない場合は作成する\n",
        "data_dir = \"./data/\"\n",
        "if not os.path.exists(data_dir):\n",
        "    os.mkdir(data_dir)"
      ],
      "metadata": {
        "id": "qOIwzC8s4i8z"
      },
      "execution_count": 3,
      "outputs": []
    },
    {
      "cell_type": "code",
      "source": [
        "# フォルダ「weights」が存在しない場合は作成する\n",
        "weights_dir = \"./weights/\"\n",
        "if not os.path.exists(weights_dir):\n",
        "    os.mkdir(weights_dir)"
      ],
      "metadata": {
        "id": "87X0d4v34b6z"
      },
      "execution_count": 4,
      "outputs": []
    },
    {
      "cell_type": "code",
      "source": [
        "# VOC2012のデータセットをここからダウンロードします\n",
        "# 時間がかかります（約15分）\n",
        "url = \"http://host.robots.ox.ac.uk/pascal/VOC/voc2012/VOCtrainval_11-May-2012.tar\"\n",
        "target_path = os.path.join(data_dir, \"VOCtrainval_11-May-2012.tar\") \n",
        "\n",
        "if not os.path.exists(target_path):\n",
        "    urllib.request.urlretrieve(url, target_path)\n",
        "    \n",
        "    tar = tarfile.TarFile(target_path)  # tarファイルを読み込み\n",
        "    tar.extractall(data_dir)  # tarを解凍\n",
        "    tar.close()  # tarファイルをクローズ"
      ],
      "metadata": {
        "id": "Mokt7URd4ele"
      },
      "execution_count": 5,
      "outputs": []
    },
    {
      "cell_type": "code",
      "source": [
        "# 学習済みのSSD用のVGGのパラメータをフォルダ「weights」にダウンロード\n",
        "# MIT License\n",
        "# Copyright (c) 2017 Max deGroot, Ellis Brown\n",
        "# https://github.com/amdegroot/ssd.pytorch\n",
        "    \n",
        "url = \"https://s3.amazonaws.com/amdegroot-models/vgg16_reducedfc.pth\"\n",
        "target_path = os.path.join(weights_dir, \"vgg16_reducedfc.pth\") \n",
        "\n",
        "if not os.path.exists(target_path):\n",
        "    urllib.request.urlretrieve(url, target_path)"
      ],
      "metadata": {
        "id": "K4mqXIAa4qM1"
      },
      "execution_count": 6,
      "outputs": []
    },
    {
      "cell_type": "code",
      "source": [
        "# 学習済みのSSD300モデルをフォルダ「weights」にダウンロード\n",
        "# MIT License\n",
        "# Copyright (c) 2017 Max deGroot, Ellis Brown\n",
        "# https://github.com/amdegroot/ssd.pytorch\n",
        "\n",
        "url = \"https://s3.amazonaws.com/amdegroot-models/ssd300_mAP_77.43_v2.pth\"\n",
        "target_path = os.path.join(weights_dir, \"ssd300_mAP_77.43_v2.pth\") \n",
        "\n",
        "if not os.path.exists(target_path):\n",
        "    urllib.request.urlretrieve(url, target_path)"
      ],
      "metadata": {
        "id": "Sky6RIOy4q6Q"
      },
      "execution_count": 7,
      "outputs": []
    },
    {
      "cell_type": "code",
      "source": [
        "# パッケージのimport\n",
        "import os.path as osp\n",
        "import random\n",
        "import time\n",
        "\n",
        "import cv2\n",
        "import numpy as np\n",
        "import pandas as pd\n",
        "import torch\n",
        "import torch.nn as nn\n",
        "import torch.nn.init as init\n",
        "import torch.optim as optim\n",
        "import torch.utils.data as data"
      ],
      "metadata": {
        "id": "zcL5pVC-3h0U"
      },
      "execution_count": 8,
      "outputs": []
    },
    {
      "cell_type": "code",
      "source": [
        "# 乱数のシードを設定\n",
        "torch.manual_seed(1234)\n",
        "np.random.seed(1234)\n",
        "random.seed(1234)"
      ],
      "metadata": {
        "id": "WKHOJe6Z33cE"
      },
      "execution_count": 9,
      "outputs": []
    },
    {
      "cell_type": "code",
      "source": [
        "device = torch.device(\"cuda:0\" if torch.cuda.is_available() else \"cpu\")\n",
        "print(\"使用デバイス：\", device)"
      ],
      "metadata": {
        "colab": {
          "base_uri": "https://localhost:8080/"
        },
        "id": "q0SOJM9N369j",
        "outputId": "d542629f-dfd8-488e-9be6-155c4068c3dc"
      },
      "execution_count": 10,
      "outputs": [
        {
          "output_type": "stream",
          "name": "stdout",
          "text": [
            "使用デバイス： cuda:0\n"
          ]
        }
      ]
    },
    {
      "cell_type": "markdown",
      "source": [
        "##DatasetとDataLoaderを作成"
      ],
      "metadata": {
        "id": "yy_3viAB4F1x"
      }
    },
    {
      "cell_type": "code",
      "source": [
        "from utils.ssd_model import make_datapath_list, VOCDataset, DataTransform, Anno_xml2list, od_collate_fn\n",
        "\n",
        "#ファイルパスのリストを取得\n",
        "rootpath = \"./data/VOCdevkit/VOC2012/\"\n",
        "train_img_list, train_anno_list, val_img_list, val_anno_list = make_datapath_list(rootpath)\n",
        "\n",
        "#Datasetの作成\n",
        "voc_classes = ['aeroplane', 'bicycle', 'bird', 'boat',\n",
        "               'bottle', 'bus', 'car', 'cat', 'chair',\n",
        "               'cow', 'diningtable', 'dog', 'horse',\n",
        "               'motorbike', 'person', 'pottedplant',\n",
        "               'sheep', 'sofa', 'train', 'tvmonitor']\n",
        "color_mean = (104, 117, 123)  # (BGR)の色の平均値\n",
        "input_size = 300  # 画像のinputサイズを300×300にする\n",
        "\n",
        "train_dataset = VOCDataset(train_img_list, train_anno_list, phase=\"train\", \n",
        "                           transform=DataTransform(input_size, color_mean), \n",
        "                           transform_anno=Anno_xml2list(voc_classes))\n",
        "\n",
        "val_dataset = VOCDataset(val_img_list, val_anno_list, phase=\"val\", \n",
        "                         transform=DataTransform(input_size, color_mean), \n",
        "                         transform_anno=Anno_xml2list(voc_classes))\n",
        "\n",
        "# DataLoaderを作成する\n",
        "batch_size = 32\n",
        "\n",
        "train_dataloader = data.DataLoader(train_dataset, batch_size=batch_size, shuffle=True, collate_fn=od_collate_fn)\n",
        "val_dataloader = data.DataLoader(val_dataset, batch_size=batch_size, shuffle=False, collate_fn=od_collate_fn)\n",
        "\n",
        "# 辞書オブジェクトにまとめる\n",
        "dataloaders_dict = {\"train\": train_dataloader, \"val\": val_dataloader}"
      ],
      "metadata": {
        "id": "7EJ-80o04Ag4"
      },
      "execution_count": 11,
      "outputs": []
    },
    {
      "cell_type": "markdown",
      "source": [
        "##ネットワークモデルの作成"
      ],
      "metadata": {
        "id": "Jc7us_Vw7KFl"
      }
    },
    {
      "cell_type": "code",
      "source": [
        "from utils.ssd_model import SSD\n",
        "\n",
        "#SSD300の設定\n",
        "ssd_cfg = {\n",
        "    'num_classes': 21,  # 背景クラスを含めた合計クラス数\n",
        "    'input_size': 300,  # 画像の入力サイズ\n",
        "    'bbox_aspect_num': [4, 6, 6, 6, 4, 4],  # 出力するDBoxのアスペクト比の種類\n",
        "    'feature_maps': [38, 19, 10, 5, 3, 1],  # 各sourceの画像サイズ\n",
        "    'steps': [8, 16, 32, 64, 100, 300],  # DBOXの大きさを決める\n",
        "    'min_sizes': [30, 60, 111, 162, 213, 264],  # DBOXの大きさを決める\n",
        "    'max_sizes': [60, 111, 162, 213, 264, 315],  # DBOXの大きさを決める\n",
        "    'aspect_ratios': [[2], [2, 3], [2, 3], [2, 3], [2], [2]],\n",
        "}\n",
        "\n",
        "#SSD\n",
        "net = SSD(phase=\"train\", cfg=ssd_cfg)\n",
        "\n",
        "#SSDの初期の重みを設定\n",
        "#SSDのVGG部分に重みをダウンロード\n",
        "vgg_weights = torch.load(\"./weights/vgg16_reducedfc.pth\")\n",
        "net.vgg.load_state_dict(vgg_weights)\n",
        "\n",
        "# ssdのその他のネットワークの重みはHeの初期値で初期化\n",
        "def weights_init(m):\n",
        "    if isinstance(m, nn.Conv2d):\n",
        "        init.kaiming_normal_(m.weight.data)\n",
        "        if m.bias is not None:\n",
        "            nn.init.constant_(m.bias, 0)\n",
        "\n",
        "net.extras.apply(weights_init)\n",
        "net.loc.apply(weights_init)\n",
        "net.conf.apply(weights_init)\n",
        "\n",
        "# GPUが使えるかを確認\n",
        "device = torch.device(\"cuda:0\" if torch.cuda.is_available() else \"cpu\")\n",
        "print(\"使用デバイス：\", device)\n",
        "print('ネットワーク設定完了：学習済みの重みをロードしました')"
      ],
      "metadata": {
        "colab": {
          "base_uri": "https://localhost:8080/"
        },
        "id": "F9ZXpjiu7IcF",
        "outputId": "4fefc3e6-0e7a-4bb0-8f68-b062dd19719f"
      },
      "execution_count": 12,
      "outputs": [
        {
          "output_type": "stream",
          "name": "stdout",
          "text": [
            "使用デバイス： cuda:0\n",
            "ネットワーク設定完了：学習済みの重みをロードしました\n"
          ]
        }
      ]
    },
    {
      "cell_type": "markdown",
      "source": [
        "##損失関数と最適化手法を定義"
      ],
      "metadata": {
        "id": "oTootD1U9Lvq"
      }
    },
    {
      "cell_type": "code",
      "source": [
        "from utils.ssd_model import MultiBoxLoss\n",
        "\n",
        "#損失関数\n",
        "criterion = MultiBoxLoss(jaccard_thresh=0.5, neg_pos=3, device=device)\n",
        "#最適化手法\n",
        "optimizer = optim.SGD(net.parameters(), lr=1e-3, momentum=0.9, weight_decay=5e-4)"
      ],
      "metadata": {
        "id": "lqPkLM_E894T"
      },
      "execution_count": 13,
      "outputs": []
    },
    {
      "cell_type": "markdown",
      "source": [
        "##学習・検証"
      ],
      "metadata": {
        "id": "dm0UyIk-9_qE"
      }
    },
    {
      "cell_type": "code",
      "source": [
        "def train_model(net, dataloaders_dict, criterion, optimizer, num_epochs):\n",
        "    #GPUが使えるか確認\n",
        "    device = torch.device(\"cuda:0\" if torch.cuda.is_available() else \"cpu\")\n",
        "    print(\"使用デバイス：\", device)\n",
        "    # ネットワークをGPUへ\n",
        "    net.to(device)\n",
        "    # ネットワークがある程度固定であれば、高速化させる\n",
        "    torch.backends.cudnn.benchmark = True\n",
        "\n",
        "    iteration = 1\n",
        "    epoch_train_loss = 0.0\n",
        "    epoch_val_loss = 0.0\n",
        "    logs = []\n",
        "\n",
        "    for epoch in range(num_epochs+1):\n",
        "        # 開始時刻を保存\n",
        "        t_epoch_start = time.time()\n",
        "        t_iter_start = time.time()\n",
        "\n",
        "        print('-------------')\n",
        "        print('Epoch {}/{}'.format(epoch+1, num_epochs))\n",
        "        print('-------------')\n",
        "\n",
        "        #epochごとの訓練と検証のループ\n",
        "        for phase in [\"train\", \"val\"]:\n",
        "            if phase == \"train\":\n",
        "                net.train()\n",
        "                print('（train）')\n",
        "            else:\n",
        "                if (epoch+1)%10 == 0:\n",
        "                    net.eval()\n",
        "                    print('-------------')\n",
        "                    print('（val）')\n",
        "                else:\n",
        "                    # 検証は10回に1回だけ行う\n",
        "                    continue\n",
        "\n",
        "            # データローダーからminibatchずつ取り出すループ\n",
        "            for images, targets in dataloaders_dict[phase]:\n",
        "                #GPUが使えるなら送る\n",
        "                images = images.to(device)\n",
        "                targets = [ann.to(device) for ann in targets]\n",
        "\n",
        "                #optimizerの初期化\n",
        "                optimizer.zero_grad()\n",
        "\n",
        "                #順伝搬（forward）計算\n",
        "                with torch.set_grad_enabled(phase == \"train\"):\n",
        "                    #forward\n",
        "                    outputs = net(images)\n",
        "\n",
        "                    #loss\n",
        "                    loss_l, loss_c = criterion(outputs, targets)\n",
        "                    loss = loss_l + loss_c\n",
        "\n",
        "                    #訓練時は逆伝播\n",
        "                    if phase == \"train\":\n",
        "                        #勾配の計算\n",
        "                        loss.backward()\n",
        "\n",
        "                        # 勾配が大きくなりすぎると計算が不安定になるので、clipで最大でも勾配2.0に留める\n",
        "                        nn.utils.clip_grad_value_(net.parameters(), clip_value=2.0)\n",
        "                        # パラメータ更新\n",
        "                        optimizer.step()\n",
        "\n",
        "                        if (iteration % 10 == 0):  # 10iterに1度、lossを表示\n",
        "                            t_iter_finish = time.time()\n",
        "                            duration = t_iter_finish - t_iter_start\n",
        "                            print('イテレーション {} || Loss: {:.4f} || 10iter: {:.4f} sec.'.format(\n",
        "                                iteration, loss.item(), duration))\n",
        "                            t_iter_start = time.time()\n",
        "\n",
        "                        epoch_train_loss += loss.item()\n",
        "                        iteration += 1\n",
        "\n",
        "                    # 検証時\n",
        "                    else:\n",
        "                        epoch_val_loss += loss.item()\n",
        "\n",
        "        # epochのphaseごとのloss （Issue158での誤植修正）\n",
        "        t_epoch_finish = time.time()\n",
        "        print('-------------')\n",
        "        print('epoch {} || Epoch_TRAIN_Loss:{:.4f} ||Epoch_VAL_Loss:{:.4f}'.format(\n",
        "            epoch+1, epoch_train_loss, epoch_val_loss))\n",
        "        print('timer:  {:.4f} sec.'.format(t_epoch_finish - t_epoch_start))\n",
        "        t_epoch_start = time.time()\n",
        "\n",
        "        # ログを保存\n",
        "        log_epoch = {'epoch': epoch+1,\n",
        "                     'train_loss': epoch_train_loss, 'val_loss': epoch_val_loss}\n",
        "        logs.append(log_epoch)\n",
        "        df = pd.DataFrame(logs)\n",
        "        df.to_csv(\"log_output.csv\")\n",
        "\n",
        "        epoch_train_loss = 0.0  # epochの損失和\n",
        "        epoch_val_loss = 0.0  # epochの損失和\n",
        "\n",
        "        # ネットワークを保存する\n",
        "        if ((epoch+1) % 10 == 0):\n",
        "            torch.save(net.state_dict(), 'weights/ssd300_' +\n",
        "                       str(epoch+1) + '.pth')"
      ],
      "metadata": {
        "id": "4Oz1dvs79xef"
      },
      "execution_count": 16,
      "outputs": []
    },
    {
      "cell_type": "code",
      "source": [
        "# 学習・検証を実行する\n",
        "num_epochs= 50  \n",
        "train_model(net, dataloaders_dict, criterion, optimizer, num_epochs=num_epochs)"
      ],
      "metadata": {
        "colab": {
          "base_uri": "https://localhost:8080/",
          "height": 1000
        },
        "id": "1JVB5fcWBidk",
        "outputId": "4751799f-3c0c-4a28-c001-91b657ba12af"
      },
      "execution_count": 17,
      "outputs": [
        {
          "output_type": "stream",
          "name": "stdout",
          "text": [
            "使用デバイス： cuda:0\n",
            "-------------\n",
            "Epoch 1/50\n",
            "-------------\n",
            "（train）\n"
          ]
        },
        {
          "output_type": "stream",
          "name": "stderr",
          "text": [
            "/content/utils/data_augumentation.py:246: VisibleDeprecationWarning: Creating an ndarray from ragged nested sequences (which is a list-or-tuple of lists-or-tuples-or ndarrays with different lengths or shapes) is deprecated. If you meant to do this, you must specify 'dtype=object' when creating the ndarray.\n",
            "  mode = random.choice(self.sample_options)\n"
          ]
        },
        {
          "output_type": "stream",
          "name": "stdout",
          "text": [
            "イテレーション 10 || Loss: 16.5910 || 10iter: 27.9382 sec.\n",
            "イテレーション 20 || Loss: 12.9110 || 10iter: 14.0508 sec.\n",
            "イテレーション 30 || Loss: 10.0072 || 10iter: 13.9434 sec.\n",
            "イテレーション 40 || Loss: 8.6467 || 10iter: 13.9975 sec.\n",
            "イテレーション 50 || Loss: 8.3504 || 10iter: 13.7698 sec.\n",
            "イテレーション 60 || Loss: 8.3845 || 10iter: 14.4807 sec.\n",
            "イテレーション 70 || Loss: 8.3662 || 10iter: 14.1055 sec.\n",
            "イテレーション 80 || Loss: 7.5521 || 10iter: 14.3180 sec.\n",
            "イテレーション 90 || Loss: 8.1805 || 10iter: 14.2421 sec.\n",
            "イテレーション 100 || Loss: 7.7227 || 10iter: 14.0902 sec.\n",
            "イテレーション 110 || Loss: 7.4838 || 10iter: 15.3358 sec.\n",
            "イテレーション 120 || Loss: 7.1977 || 10iter: 14.1492 sec.\n",
            "イテレーション 130 || Loss: 7.6837 || 10iter: 14.3090 sec.\n",
            "イテレーション 140 || Loss: 7.6098 || 10iter: 14.4716 sec.\n",
            "イテレーション 150 || Loss: 7.2705 || 10iter: 14.4002 sec.\n",
            "イテレーション 160 || Loss: 7.5723 || 10iter: 14.5365 sec.\n",
            "イテレーション 170 || Loss: 7.2083 || 10iter: 14.5628 sec.\n",
            "-------------\n",
            "epoch 1 || Epoch_TRAIN_Loss:1630.3311 ||Epoch_VAL_Loss:0.0000\n",
            "timer:  285.8700 sec.\n",
            "-------------\n",
            "Epoch 2/50\n",
            "-------------\n",
            "（train）\n",
            "イテレーション 180 || Loss: 7.3426 || 10iter: 0.9510 sec.\n",
            "イテレーション 190 || Loss: 7.3225 || 10iter: 14.3891 sec.\n",
            "イテレーション 200 || Loss: 7.1139 || 10iter: 14.7330 sec.\n",
            "イテレーション 210 || Loss: 6.8632 || 10iter: 15.0056 sec.\n",
            "イテレーション 220 || Loss: 7.0086 || 10iter: 14.9636 sec.\n",
            "イテレーション 230 || Loss: 6.9682 || 10iter: 15.1339 sec.\n",
            "イテレーション 240 || Loss: 6.8301 || 10iter: 15.9337 sec.\n",
            "イテレーション 250 || Loss: 7.0052 || 10iter: 14.9272 sec.\n",
            "イテレーション 260 || Loss: 6.9170 || 10iter: 15.0341 sec.\n",
            "イテレーション 270 || Loss: 7.0157 || 10iter: 15.1592 sec.\n",
            "イテレーション 280 || Loss: 6.5765 || 10iter: 15.1744 sec.\n",
            "イテレーション 290 || Loss: 6.5439 || 10iter: 15.1833 sec.\n",
            "イテレーション 300 || Loss: 6.2115 || 10iter: 15.3941 sec.\n",
            "イテレーション 310 || Loss: 6.8719 || 10iter: 15.0915 sec.\n",
            "イテレーション 320 || Loss: 6.6922 || 10iter: 14.9935 sec.\n",
            "イテレーション 330 || Loss: 7.0352 || 10iter: 15.1326 sec.\n",
            "イテレーション 340 || Loss: 6.3740 || 10iter: 15.0339 sec.\n",
            "イテレーション 350 || Loss: 6.8519 || 10iter: 15.3737 sec.\n",
            "-------------\n",
            "epoch 2 || Epoch_TRAIN_Loss:1248.7949 ||Epoch_VAL_Loss:0.0000\n",
            "timer:  281.2274 sec.\n",
            "-------------\n",
            "Epoch 3/50\n",
            "-------------\n",
            "（train）\n",
            "イテレーション 360 || Loss: 6.6268 || 10iter: 2.4171 sec.\n",
            "イテレーション 370 || Loss: 6.6293 || 10iter: 16.1042 sec.\n",
            "イテレーション 380 || Loss: 6.4958 || 10iter: 15.2530 sec.\n",
            "イテレーション 390 || Loss: 6.6383 || 10iter: 15.2042 sec.\n",
            "イテレーション 400 || Loss: 7.5395 || 10iter: 15.1719 sec.\n",
            "イテレーション 410 || Loss: 6.4564 || 10iter: 15.1044 sec.\n",
            "イテレーション 420 || Loss: 6.4704 || 10iter: 15.0700 sec.\n",
            "イテレーション 430 || Loss: 6.3507 || 10iter: 14.8352 sec.\n",
            "イテレーション 440 || Loss: 6.7261 || 10iter: 15.3489 sec.\n",
            "イテレーション 450 || Loss: 6.5802 || 10iter: 15.3400 sec.\n",
            "イテレーション 460 || Loss: 6.4090 || 10iter: 15.1160 sec.\n",
            "イテレーション 470 || Loss: 6.6093 || 10iter: 15.4963 sec.\n",
            "イテレーション 480 || Loss: 6.4590 || 10iter: 15.0454 sec.\n",
            "イテレーション 490 || Loss: 6.6548 || 10iter: 15.3145 sec.\n",
            "イテレーション 500 || Loss: 6.3889 || 10iter: 14.9425 sec.\n",
            "イテレーション 510 || Loss: 6.2013 || 10iter: 15.3353 sec.\n",
            "イテレーション 520 || Loss: 6.5305 || 10iter: 15.0393 sec.\n",
            "イテレーション 530 || Loss: 6.3497 || 10iter: 15.5774 sec.\n",
            "-------------\n",
            "epoch 3 || Epoch_TRAIN_Loss:1173.3763 ||Epoch_VAL_Loss:0.0000\n",
            "timer:  283.8029 sec.\n",
            "-------------\n",
            "Epoch 4/50\n",
            "-------------\n",
            "（train）\n",
            "イテレーション 540 || Loss: 6.0880 || 10iter: 4.0414 sec.\n",
            "イテレーション 550 || Loss: 6.6016 || 10iter: 15.4078 sec.\n",
            "イテレーション 560 || Loss: 6.8241 || 10iter: 15.2508 sec.\n",
            "イテレーション 570 || Loss: 6.0194 || 10iter: 15.5665 sec.\n",
            "イテレーション 580 || Loss: 6.6757 || 10iter: 15.4011 sec.\n",
            "イテレーション 590 || Loss: 6.2369 || 10iter: 15.0836 sec.\n",
            "イテレーション 600 || Loss: 6.7304 || 10iter: 15.6016 sec.\n",
            "イテレーション 610 || Loss: 6.7070 || 10iter: 15.0293 sec.\n",
            "イテレーション 620 || Loss: 5.8508 || 10iter: 15.2317 sec.\n",
            "イテレーション 630 || Loss: 6.3262 || 10iter: 14.9827 sec.\n",
            "イテレーション 640 || Loss: 6.1662 || 10iter: 15.2355 sec.\n",
            "イテレーション 650 || Loss: 5.8620 || 10iter: 15.2759 sec.\n",
            "イテレーション 660 || Loss: 6.1802 || 10iter: 14.8032 sec.\n",
            "イテレーション 670 || Loss: 6.4094 || 10iter: 15.3451 sec.\n",
            "イテレーション 680 || Loss: 6.2841 || 10iter: 15.4080 sec.\n",
            "イテレーション 690 || Loss: 6.0532 || 10iter: 14.8644 sec.\n",
            "イテレーション 700 || Loss: 6.2225 || 10iter: 15.5179 sec.\n",
            "イテレーション 710 || Loss: 6.7889 || 10iter: 15.2404 sec.\n",
            "-------------\n",
            "epoch 4 || Epoch_TRAIN_Loss:1117.3469 ||Epoch_VAL_Loss:0.0000\n",
            "timer:  284.1067 sec.\n",
            "-------------\n",
            "Epoch 5/50\n",
            "-------------\n",
            "（train）\n",
            "イテレーション 720 || Loss: 6.1160 || 10iter: 5.5452 sec.\n",
            "イテレーション 730 || Loss: 5.9304 || 10iter: 15.0318 sec.\n",
            "イテレーション 740 || Loss: 6.6191 || 10iter: 15.2670 sec.\n",
            "イテレーション 750 || Loss: 5.5616 || 10iter: 15.3862 sec.\n",
            "イテレーション 760 || Loss: 5.9635 || 10iter: 14.9750 sec.\n",
            "イテレーション 770 || Loss: 5.8305 || 10iter: 15.3280 sec.\n",
            "イテレーション 780 || Loss: 5.7012 || 10iter: 14.9200 sec.\n",
            "イテレーション 790 || Loss: 6.2726 || 10iter: 15.1809 sec.\n",
            "イテレーション 800 || Loss: 6.1089 || 10iter: 14.9398 sec.\n",
            "イテレーション 810 || Loss: 6.3976 || 10iter: 15.3802 sec.\n",
            "イテレーション 820 || Loss: 6.3593 || 10iter: 15.2122 sec.\n",
            "イテレーション 830 || Loss: 5.8010 || 10iter: 15.1103 sec.\n",
            "イテレーション 840 || Loss: 5.9012 || 10iter: 15.0277 sec.\n",
            "イテレーション 850 || Loss: 5.9383 || 10iter: 15.1724 sec.\n",
            "イテレーション 860 || Loss: 5.7595 || 10iter: 15.7874 sec.\n",
            "イテレーション 870 || Loss: 6.0818 || 10iter: 15.2577 sec.\n",
            "イテレーション 880 || Loss: 5.9990 || 10iter: 15.3858 sec.\n",
            "イテレーション 890 || Loss: 6.2375 || 10iter: 15.2054 sec.\n",
            "-------------\n",
            "epoch 5 || Epoch_TRAIN_Loss:1073.2425 ||Epoch_VAL_Loss:0.0000\n",
            "timer:  283.4641 sec.\n",
            "-------------\n",
            "Epoch 6/50\n",
            "-------------\n",
            "（train）\n",
            "イテレーション 900 || Loss: 5.9749 || 10iter: 7.3087 sec.\n",
            "イテレーション 910 || Loss: 5.8155 || 10iter: 15.0480 sec.\n",
            "イテレーション 920 || Loss: 5.5777 || 10iter: 15.0236 sec.\n",
            "イテレーション 930 || Loss: 5.9565 || 10iter: 15.2638 sec.\n",
            "イテレーション 940 || Loss: 5.5035 || 10iter: 15.0070 sec.\n",
            "イテレーション 950 || Loss: 5.9882 || 10iter: 15.4429 sec.\n",
            "イテレーション 960 || Loss: 6.0645 || 10iter: 15.1344 sec.\n",
            "イテレーション 970 || Loss: 6.1348 || 10iter: 15.0686 sec.\n",
            "イテレーション 980 || Loss: 5.8535 || 10iter: 14.9094 sec.\n",
            "イテレーション 990 || Loss: 5.1816 || 10iter: 14.7300 sec.\n",
            "イテレーション 1000 || Loss: 6.0104 || 10iter: 15.1320 sec.\n",
            "イテレーション 1010 || Loss: 5.6376 || 10iter: 14.9521 sec.\n",
            "イテレーション 1020 || Loss: 5.7275 || 10iter: 15.1262 sec.\n",
            "イテレーション 1030 || Loss: 5.8385 || 10iter: 15.1968 sec.\n",
            "イテレーション 1040 || Loss: 5.4633 || 10iter: 15.2430 sec.\n",
            "イテレーション 1050 || Loss: 5.5923 || 10iter: 15.3396 sec.\n",
            "イテレーション 1060 || Loss: 5.5618 || 10iter: 15.2168 sec.\n",
            "イテレーション 1070 || Loss: 5.7930 || 10iter: 14.9635 sec.\n",
            "-------------\n",
            "epoch 6 || Epoch_TRAIN_Loss:1032.8373 ||Epoch_VAL_Loss:0.0000\n",
            "timer:  281.6807 sec.\n",
            "-------------\n",
            "Epoch 7/50\n",
            "-------------\n",
            "（train）\n",
            "イテレーション 1080 || Loss: 5.6224 || 10iter: 9.0488 sec.\n",
            "イテレーション 1090 || Loss: 5.2719 || 10iter: 15.1642 sec.\n",
            "イテレーション 1100 || Loss: 5.8668 || 10iter: 14.9174 sec.\n",
            "イテレーション 1110 || Loss: 5.1473 || 10iter: 14.9669 sec.\n",
            "イテレーション 1120 || Loss: 5.2028 || 10iter: 15.1838 sec.\n",
            "イテレーション 1130 || Loss: 5.3378 || 10iter: 15.5858 sec.\n",
            "イテレーション 1140 || Loss: 5.5000 || 10iter: 15.3896 sec.\n",
            "イテレーション 1150 || Loss: 5.6480 || 10iter: 15.0203 sec.\n",
            "イテレーション 1160 || Loss: 5.4703 || 10iter: 15.2952 sec.\n",
            "イテレーション 1170 || Loss: 4.7970 || 10iter: 15.4413 sec.\n",
            "イテレーション 1180 || Loss: 5.9552 || 10iter: 15.1483 sec.\n",
            "イテレーション 1190 || Loss: 5.7945 || 10iter: 15.0514 sec.\n",
            "イテレーション 1200 || Loss: 5.2800 || 10iter: 14.8274 sec.\n",
            "イテレーション 1210 || Loss: 5.8350 || 10iter: 15.2711 sec.\n",
            "イテレーション 1220 || Loss: 5.5804 || 10iter: 15.1201 sec.\n",
            "イテレーション 1230 || Loss: 5.9825 || 10iter: 15.4602 sec.\n",
            "イテレーション 1240 || Loss: 5.5148 || 10iter: 15.0487 sec.\n",
            "イテレーション 1250 || Loss: 5.7140 || 10iter: 15.3432 sec.\n",
            "-------------\n",
            "epoch 7 || Epoch_TRAIN_Loss:1005.5852 ||Epoch_VAL_Loss:0.0000\n",
            "timer:  283.2350 sec.\n",
            "-------------\n",
            "Epoch 8/50\n",
            "-------------\n",
            "（train）\n",
            "イテレーション 1260 || Loss: 5.4650 || 10iter: 10.2954 sec.\n",
            "イテレーション 1270 || Loss: 5.8896 || 10iter: 14.8909 sec.\n",
            "イテレーション 1280 || Loss: 5.4099 || 10iter: 15.1571 sec.\n",
            "イテレーション 1290 || Loss: 5.3295 || 10iter: 15.0341 sec.\n",
            "イテレーション 1300 || Loss: 5.4566 || 10iter: 15.1145 sec.\n",
            "イテレーション 1310 || Loss: 5.2000 || 10iter: 15.1250 sec.\n",
            "イテレーション 1320 || Loss: 5.1803 || 10iter: 15.3339 sec.\n",
            "イテレーション 1330 || Loss: 5.5364 || 10iter: 15.5308 sec.\n",
            "イテレーション 1340 || Loss: 5.2760 || 10iter: 15.1488 sec.\n",
            "イテレーション 1350 || Loss: 5.8737 || 10iter: 15.2337 sec.\n",
            "イテレーション 1360 || Loss: 5.5432 || 10iter: 15.1881 sec.\n",
            "イテレーション 1370 || Loss: 4.9069 || 10iter: 15.3758 sec.\n",
            "イテレーション 1380 || Loss: 5.3706 || 10iter: 14.9798 sec.\n",
            "イテレーション 1390 || Loss: 5.3734 || 10iter: 15.3389 sec.\n",
            "イテレーション 1400 || Loss: 5.1970 || 10iter: 15.1051 sec.\n",
            "イテレーション 1410 || Loss: 5.8203 || 10iter: 15.0009 sec.\n",
            "イテレーション 1420 || Loss: 5.1687 || 10iter: 15.2687 sec.\n",
            "イテレーション 1430 || Loss: 5.5732 || 10iter: 14.9167 sec.\n",
            "-------------\n",
            "epoch 8 || Epoch_TRAIN_Loss:969.7110 ||Epoch_VAL_Loss:0.0000\n",
            "timer:  282.3028 sec.\n",
            "-------------\n",
            "Epoch 9/50\n",
            "-------------\n",
            "（train）\n",
            "イテレーション 1440 || Loss: 5.4641 || 10iter: 12.0683 sec.\n",
            "イテレーション 1450 || Loss: 5.1840 || 10iter: 15.2946 sec.\n",
            "イテレーション 1460 || Loss: 5.3325 || 10iter: 15.1342 sec.\n",
            "イテレーション 1470 || Loss: 5.5251 || 10iter: 15.1539 sec.\n",
            "イテレーション 1480 || Loss: 5.4881 || 10iter: 15.0346 sec.\n",
            "イテレーション 1490 || Loss: 4.8462 || 10iter: 15.2876 sec.\n",
            "イテレーション 1500 || Loss: 5.4601 || 10iter: 15.1574 sec.\n",
            "イテレーション 1510 || Loss: 5.2092 || 10iter: 15.3932 sec.\n",
            "イテレーション 1520 || Loss: 5.1332 || 10iter: 14.9942 sec.\n",
            "イテレーション 1530 || Loss: 5.4152 || 10iter: 14.8743 sec.\n",
            "イテレーション 1540 || Loss: 5.4414 || 10iter: 15.0319 sec.\n",
            "イテレーション 1550 || Loss: 5.1485 || 10iter: 15.3345 sec.\n",
            "イテレーション 1560 || Loss: 5.4211 || 10iter: 15.2979 sec.\n",
            "イテレーション 1570 || Loss: 5.7242 || 10iter: 15.2128 sec.\n",
            "イテレーション 1580 || Loss: 5.2536 || 10iter: 15.1040 sec.\n",
            "イテレーション 1590 || Loss: 5.1458 || 10iter: 15.0865 sec.\n",
            "イテレーション 1600 || Loss: 5.1960 || 10iter: 15.5765 sec.\n",
            "イテレーション 1610 || Loss: 5.4772 || 10iter: 15.2571 sec.\n",
            "-------------\n",
            "epoch 9 || Epoch_TRAIN_Loss:940.3551 ||Epoch_VAL_Loss:0.0000\n",
            "timer:  283.0484 sec.\n",
            "-------------\n",
            "Epoch 10/50\n",
            "-------------\n",
            "（train）\n",
            "イテレーション 1620 || Loss: 5.5195 || 10iter: 13.4528 sec.\n",
            "イテレーション 1630 || Loss: 5.1244 || 10iter: 15.0192 sec.\n",
            "イテレーション 1640 || Loss: 5.4434 || 10iter: 15.2078 sec.\n",
            "イテレーション 1650 || Loss: 5.1911 || 10iter: 15.2939 sec.\n",
            "イテレーション 1660 || Loss: 5.1539 || 10iter: 14.9626 sec.\n",
            "イテレーション 1670 || Loss: 5.5252 || 10iter: 15.1736 sec.\n",
            "イテレーション 1680 || Loss: 5.2325 || 10iter: 14.9429 sec.\n",
            "イテレーション 1690 || Loss: 5.1649 || 10iter: 14.8663 sec.\n",
            "イテレーション 1700 || Loss: 5.0588 || 10iter: 15.5104 sec.\n",
            "イテレーション 1710 || Loss: 5.0490 || 10iter: 15.5355 sec.\n",
            "イテレーション 1720 || Loss: 4.5865 || 10iter: 14.9885 sec.\n",
            "イテレーション 1730 || Loss: 5.2739 || 10iter: 14.8409 sec.\n",
            "イテレーション 1740 || Loss: 5.5259 || 10iter: 14.7908 sec.\n",
            "イテレーション 1750 || Loss: 5.0624 || 10iter: 15.0768 sec.\n",
            "イテレーション 1760 || Loss: 5.6361 || 10iter: 15.1875 sec.\n",
            "イテレーション 1770 || Loss: 5.2883 || 10iter: 15.3327 sec.\n",
            "イテレーション 1780 || Loss: 4.7280 || 10iter: 15.1087 sec.\n",
            "イテレーション 1790 || Loss: 5.0814 || 10iter: 15.0919 sec.\n",
            "-------------\n",
            "（val）\n",
            "-------------\n",
            "epoch 10 || Epoch_TRAIN_Loss:923.8092 ||Epoch_VAL_Loss:932.8661\n",
            "timer:  392.8447 sec.\n",
            "-------------\n",
            "Epoch 11/50\n",
            "-------------\n",
            "（train）\n",
            "イテレーション 1800 || Loss: 4.5563 || 10iter: 15.0859 sec.\n",
            "イテレーション 1810 || Loss: 5.1214 || 10iter: 15.3363 sec.\n",
            "イテレーション 1820 || Loss: 5.1375 || 10iter: 15.1681 sec.\n",
            "イテレーション 1830 || Loss: 5.1006 || 10iter: 15.0523 sec.\n",
            "イテレーション 1840 || Loss: 5.2802 || 10iter: 14.9856 sec.\n",
            "イテレーション 1850 || Loss: 4.5223 || 10iter: 14.8228 sec.\n",
            "イテレーション 1860 || Loss: 4.6430 || 10iter: 15.2153 sec.\n",
            "イテレーション 1870 || Loss: 5.2360 || 10iter: 15.1529 sec.\n",
            "イテレーション 1880 || Loss: 4.6977 || 10iter: 14.8432 sec.\n",
            "イテレーション 1890 || Loss: 4.6057 || 10iter: 15.3869 sec.\n",
            "イテレーション 1900 || Loss: 4.7427 || 10iter: 15.0907 sec.\n",
            "イテレーション 1910 || Loss: 4.7120 || 10iter: 15.7948 sec.\n",
            "イテレーション 1920 || Loss: 5.0753 || 10iter: 15.1643 sec.\n",
            "イテレーション 1930 || Loss: 5.0960 || 10iter: 15.1392 sec.\n",
            "イテレーション 1940 || Loss: 4.5547 || 10iter: 15.0455 sec.\n",
            "イテレーション 1950 || Loss: 5.1062 || 10iter: 14.9724 sec.\n",
            "イテレーション 1960 || Loss: 4.7957 || 10iter: 14.9223 sec.\n",
            "-------------\n",
            "epoch 11 || Epoch_TRAIN_Loss:903.0236 ||Epoch_VAL_Loss:0.0000\n",
            "timer:  281.8276 sec.\n",
            "-------------\n",
            "Epoch 12/50\n",
            "-------------\n",
            "（train）\n",
            "イテレーション 1970 || Loss: 5.0095 || 10iter: 1.0177 sec.\n",
            "イテレーション 1980 || Loss: 4.8671 || 10iter: 15.2268 sec.\n",
            "イテレーション 1990 || Loss: 5.5732 || 10iter: 15.1470 sec.\n",
            "イテレーション 2000 || Loss: 4.7822 || 10iter: 15.1471 sec.\n",
            "イテレーション 2010 || Loss: 4.4243 || 10iter: 15.6673 sec.\n",
            "イテレーション 2020 || Loss: 4.8188 || 10iter: 15.1782 sec.\n",
            "イテレーション 2030 || Loss: 4.4394 || 10iter: 14.8762 sec.\n",
            "イテレーション 2040 || Loss: 4.9188 || 10iter: 15.0944 sec.\n",
            "イテレーション 2050 || Loss: 5.4334 || 10iter: 15.3002 sec.\n",
            "イテレーション 2060 || Loss: 5.0263 || 10iter: 14.9679 sec.\n",
            "イテレーション 2070 || Loss: 5.1395 || 10iter: 15.1426 sec.\n",
            "イテレーション 2080 || Loss: 4.6947 || 10iter: 14.8568 sec.\n",
            "イテレーション 2090 || Loss: 4.4045 || 10iter: 14.9364 sec.\n",
            "イテレーション 2100 || Loss: 5.0254 || 10iter: 15.7548 sec.\n",
            "イテレーション 2110 || Loss: 5.0496 || 10iter: 15.3820 sec.\n",
            "イテレーション 2120 || Loss: 4.5745 || 10iter: 14.7964 sec.\n",
            "イテレーション 2130 || Loss: 5.1694 || 10iter: 14.9412 sec.\n",
            "イテレーション 2140 || Loss: 4.9759 || 10iter: 14.9669 sec.\n",
            "-------------\n",
            "epoch 12 || Epoch_TRAIN_Loss:887.4763 ||Epoch_VAL_Loss:0.0000\n",
            "timer:  282.3559 sec.\n",
            "-------------\n",
            "Epoch 13/50\n",
            "-------------\n",
            "（train）\n",
            "イテレーション 2150 || Loss: 5.3291 || 10iter: 2.4521 sec.\n",
            "イテレーション 2160 || Loss: 4.8801 || 10iter: 15.2361 sec.\n",
            "イテレーション 2170 || Loss: 4.6646 || 10iter: 15.0216 sec.\n",
            "イテレーション 2180 || Loss: 5.3513 || 10iter: 14.9526 sec.\n",
            "イテレーション 2190 || Loss: 5.2245 || 10iter: 14.9550 sec.\n",
            "イテレーション 2200 || Loss: 4.6545 || 10iter: 15.1160 sec.\n",
            "イテレーション 2210 || Loss: 4.7091 || 10iter: 15.0307 sec.\n",
            "イテレーション 2220 || Loss: 5.3205 || 10iter: 15.2414 sec.\n",
            "イテレーション 2230 || Loss: 4.3494 || 10iter: 14.8391 sec.\n",
            "イテレーション 2240 || Loss: 5.0292 || 10iter: 15.3372 sec.\n",
            "イテレーション 2250 || Loss: 5.0110 || 10iter: 15.0969 sec.\n",
            "イテレーション 2260 || Loss: 4.8003 || 10iter: 15.0684 sec.\n",
            "イテレーション 2270 || Loss: 5.1723 || 10iter: 15.3176 sec.\n",
            "イテレーション 2280 || Loss: 4.9082 || 10iter: 14.8613 sec.\n",
            "イテレーション 2290 || Loss: 5.0465 || 10iter: 15.0946 sec.\n",
            "イテレーション 2300 || Loss: 4.7106 || 10iter: 15.6318 sec.\n",
            "イテレーション 2310 || Loss: 4.7795 || 10iter: 15.3532 sec.\n",
            "イテレーション 2320 || Loss: 4.7875 || 10iter: 14.8139 sec.\n",
            "-------------\n",
            "epoch 13 || Epoch_TRAIN_Loss:876.1643 ||Epoch_VAL_Loss:0.0000\n",
            "timer:  281.6868 sec.\n",
            "-------------\n",
            "Epoch 14/50\n",
            "-------------\n",
            "（train）\n",
            "イテレーション 2330 || Loss: 5.0241 || 10iter: 4.2325 sec.\n",
            "イテレーション 2340 || Loss: 4.6807 || 10iter: 15.2147 sec.\n",
            "イテレーション 2350 || Loss: 4.3582 || 10iter: 14.4997 sec.\n",
            "イテレーション 2360 || Loss: 4.9542 || 10iter: 15.1340 sec.\n",
            "イテレーション 2370 || Loss: 4.6655 || 10iter: 15.1996 sec.\n",
            "イテレーション 2380 || Loss: 4.5734 || 10iter: 15.2293 sec.\n",
            "イテレーション 2390 || Loss: 4.9500 || 10iter: 15.4874 sec.\n",
            "イテレーション 2400 || Loss: 4.4755 || 10iter: 14.9399 sec.\n",
            "イテレーション 2410 || Loss: 4.4106 || 10iter: 14.9931 sec.\n",
            "イテレーション 2420 || Loss: 4.9277 || 10iter: 14.7657 sec.\n",
            "イテレーション 2430 || Loss: 5.0490 || 10iter: 15.2220 sec.\n",
            "イテレーション 2440 || Loss: 5.2526 || 10iter: 15.1802 sec.\n",
            "イテレーション 2450 || Loss: 4.7161 || 10iter: 15.0085 sec.\n",
            "イテレーション 2460 || Loss: 4.5978 || 10iter: 15.1174 sec.\n",
            "イテレーション 2470 || Loss: 5.0899 || 10iter: 15.2818 sec.\n",
            "イテレーション 2480 || Loss: 4.5226 || 10iter: 15.3146 sec.\n",
            "イテレーション 2490 || Loss: 4.6238 || 10iter: 15.6470 sec.\n",
            "イテレーション 2500 || Loss: 5.2136 || 10iter: 15.0813 sec.\n",
            "-------------\n",
            "epoch 14 || Epoch_TRAIN_Loss:852.3068 ||Epoch_VAL_Loss:0.0000\n",
            "timer:  282.1067 sec.\n",
            "-------------\n",
            "Epoch 15/50\n",
            "-------------\n",
            "（train）\n",
            "イテレーション 2510 || Loss: 4.0298 || 10iter: 5.5822 sec.\n",
            "イテレーション 2520 || Loss: 4.5150 || 10iter: 15.0101 sec.\n",
            "イテレーション 2530 || Loss: 5.3253 || 10iter: 15.3720 sec.\n",
            "イテレーション 2540 || Loss: 5.2273 || 10iter: 14.8136 sec.\n",
            "イテレーション 2550 || Loss: 4.4839 || 10iter: 15.1403 sec.\n"
          ]
        },
        {
          "output_type": "error",
          "ename": "KeyboardInterrupt",
          "evalue": "ignored",
          "traceback": [
            "\u001b[0;31m---------------------------------------------------------------------------\u001b[0m",
            "\u001b[0;31mKeyboardInterrupt\u001b[0m                         Traceback (most recent call last)",
            "\u001b[0;32m<ipython-input-17-bd39208704b0>\u001b[0m in \u001b[0;36m<module>\u001b[0;34m\u001b[0m\n\u001b[1;32m      1\u001b[0m \u001b[0;31m# 学習・検証を実行する\u001b[0m\u001b[0;34m\u001b[0m\u001b[0;34m\u001b[0m\u001b[0;34m\u001b[0m\u001b[0m\n\u001b[1;32m      2\u001b[0m \u001b[0mnum_epochs\u001b[0m\u001b[0;34m=\u001b[0m \u001b[0;36m50\u001b[0m\u001b[0;34m\u001b[0m\u001b[0;34m\u001b[0m\u001b[0m\n\u001b[0;32m----> 3\u001b[0;31m \u001b[0mtrain_model\u001b[0m\u001b[0;34m(\u001b[0m\u001b[0mnet\u001b[0m\u001b[0;34m,\u001b[0m \u001b[0mdataloaders_dict\u001b[0m\u001b[0;34m,\u001b[0m \u001b[0mcriterion\u001b[0m\u001b[0;34m,\u001b[0m \u001b[0moptimizer\u001b[0m\u001b[0;34m,\u001b[0m \u001b[0mnum_epochs\u001b[0m\u001b[0;34m=\u001b[0m\u001b[0mnum_epochs\u001b[0m\u001b[0;34m)\u001b[0m\u001b[0;34m\u001b[0m\u001b[0;34m\u001b[0m\u001b[0m\n\u001b[0m",
            "\u001b[0;32m<ipython-input-16-3a72c71146b8>\u001b[0m in \u001b[0;36mtrain_model\u001b[0;34m(net, dataloaders_dict, criterion, optimizer, num_epochs)\u001b[0m\n\u001b[1;32m     37\u001b[0m \u001b[0;34m\u001b[0m\u001b[0m\n\u001b[1;32m     38\u001b[0m             \u001b[0;31m# データローダーからminibatchずつ取り出すループ\u001b[0m\u001b[0;34m\u001b[0m\u001b[0;34m\u001b[0m\u001b[0;34m\u001b[0m\u001b[0m\n\u001b[0;32m---> 39\u001b[0;31m             \u001b[0;32mfor\u001b[0m \u001b[0mimages\u001b[0m\u001b[0;34m,\u001b[0m \u001b[0mtargets\u001b[0m \u001b[0;32min\u001b[0m \u001b[0mdataloaders_dict\u001b[0m\u001b[0;34m[\u001b[0m\u001b[0mphase\u001b[0m\u001b[0;34m]\u001b[0m\u001b[0;34m:\u001b[0m\u001b[0;34m\u001b[0m\u001b[0;34m\u001b[0m\u001b[0m\n\u001b[0m\u001b[1;32m     40\u001b[0m                 \u001b[0;31m#GPUが使えるなら送る\u001b[0m\u001b[0;34m\u001b[0m\u001b[0;34m\u001b[0m\u001b[0;34m\u001b[0m\u001b[0m\n\u001b[1;32m     41\u001b[0m                 \u001b[0mimages\u001b[0m \u001b[0;34m=\u001b[0m \u001b[0mimages\u001b[0m\u001b[0;34m.\u001b[0m\u001b[0mto\u001b[0m\u001b[0;34m(\u001b[0m\u001b[0mdevice\u001b[0m\u001b[0;34m)\u001b[0m\u001b[0;34m\u001b[0m\u001b[0;34m\u001b[0m\u001b[0m\n",
            "\u001b[0;32m/usr/local/lib/python3.7/dist-packages/torch/utils/data/dataloader.py\u001b[0m in \u001b[0;36m__next__\u001b[0;34m(self)\u001b[0m\n\u001b[1;32m    679\u001b[0m                 \u001b[0;31m# TODO(https://github.com/pytorch/pytorch/issues/76750)\u001b[0m\u001b[0;34m\u001b[0m\u001b[0;34m\u001b[0m\u001b[0;34m\u001b[0m\u001b[0m\n\u001b[1;32m    680\u001b[0m                 \u001b[0mself\u001b[0m\u001b[0;34m.\u001b[0m\u001b[0m_reset\u001b[0m\u001b[0;34m(\u001b[0m\u001b[0;34m)\u001b[0m  \u001b[0;31m# type: ignore[call-arg]\u001b[0m\u001b[0;34m\u001b[0m\u001b[0;34m\u001b[0m\u001b[0m\n\u001b[0;32m--> 681\u001b[0;31m             \u001b[0mdata\u001b[0m \u001b[0;34m=\u001b[0m \u001b[0mself\u001b[0m\u001b[0;34m.\u001b[0m\u001b[0m_next_data\u001b[0m\u001b[0;34m(\u001b[0m\u001b[0;34m)\u001b[0m\u001b[0;34m\u001b[0m\u001b[0;34m\u001b[0m\u001b[0m\n\u001b[0m\u001b[1;32m    682\u001b[0m             \u001b[0mself\u001b[0m\u001b[0;34m.\u001b[0m\u001b[0m_num_yielded\u001b[0m \u001b[0;34m+=\u001b[0m \u001b[0;36m1\u001b[0m\u001b[0;34m\u001b[0m\u001b[0;34m\u001b[0m\u001b[0m\n\u001b[1;32m    683\u001b[0m             \u001b[0;32mif\u001b[0m \u001b[0mself\u001b[0m\u001b[0;34m.\u001b[0m\u001b[0m_dataset_kind\u001b[0m \u001b[0;34m==\u001b[0m \u001b[0m_DatasetKind\u001b[0m\u001b[0;34m.\u001b[0m\u001b[0mIterable\u001b[0m \u001b[0;32mand\u001b[0m\u001b[0;31m \u001b[0m\u001b[0;31m\\\u001b[0m\u001b[0;34m\u001b[0m\u001b[0;34m\u001b[0m\u001b[0m\n",
            "\u001b[0;32m/usr/local/lib/python3.7/dist-packages/torch/utils/data/dataloader.py\u001b[0m in \u001b[0;36m_next_data\u001b[0;34m(self)\u001b[0m\n\u001b[1;32m    719\u001b[0m     \u001b[0;32mdef\u001b[0m \u001b[0m_next_data\u001b[0m\u001b[0;34m(\u001b[0m\u001b[0mself\u001b[0m\u001b[0;34m)\u001b[0m\u001b[0;34m:\u001b[0m\u001b[0;34m\u001b[0m\u001b[0;34m\u001b[0m\u001b[0m\n\u001b[1;32m    720\u001b[0m         \u001b[0mindex\u001b[0m \u001b[0;34m=\u001b[0m \u001b[0mself\u001b[0m\u001b[0;34m.\u001b[0m\u001b[0m_next_index\u001b[0m\u001b[0;34m(\u001b[0m\u001b[0;34m)\u001b[0m  \u001b[0;31m# may raise StopIteration\u001b[0m\u001b[0;34m\u001b[0m\u001b[0;34m\u001b[0m\u001b[0m\n\u001b[0;32m--> 721\u001b[0;31m         \u001b[0mdata\u001b[0m \u001b[0;34m=\u001b[0m \u001b[0mself\u001b[0m\u001b[0;34m.\u001b[0m\u001b[0m_dataset_fetcher\u001b[0m\u001b[0;34m.\u001b[0m\u001b[0mfetch\u001b[0m\u001b[0;34m(\u001b[0m\u001b[0mindex\u001b[0m\u001b[0;34m)\u001b[0m  \u001b[0;31m# may raise StopIteration\u001b[0m\u001b[0;34m\u001b[0m\u001b[0;34m\u001b[0m\u001b[0m\n\u001b[0m\u001b[1;32m    722\u001b[0m         \u001b[0;32mif\u001b[0m \u001b[0mself\u001b[0m\u001b[0;34m.\u001b[0m\u001b[0m_pin_memory\u001b[0m\u001b[0;34m:\u001b[0m\u001b[0;34m\u001b[0m\u001b[0;34m\u001b[0m\u001b[0m\n\u001b[1;32m    723\u001b[0m             \u001b[0mdata\u001b[0m \u001b[0;34m=\u001b[0m \u001b[0m_utils\u001b[0m\u001b[0;34m.\u001b[0m\u001b[0mpin_memory\u001b[0m\u001b[0;34m.\u001b[0m\u001b[0mpin_memory\u001b[0m\u001b[0;34m(\u001b[0m\u001b[0mdata\u001b[0m\u001b[0;34m,\u001b[0m \u001b[0mself\u001b[0m\u001b[0;34m.\u001b[0m\u001b[0m_pin_memory_device\u001b[0m\u001b[0;34m)\u001b[0m\u001b[0;34m\u001b[0m\u001b[0;34m\u001b[0m\u001b[0m\n",
            "\u001b[0;32m/usr/local/lib/python3.7/dist-packages/torch/utils/data/_utils/fetch.py\u001b[0m in \u001b[0;36mfetch\u001b[0;34m(self, possibly_batched_index)\u001b[0m\n\u001b[1;32m     47\u001b[0m     \u001b[0;32mdef\u001b[0m \u001b[0mfetch\u001b[0m\u001b[0;34m(\u001b[0m\u001b[0mself\u001b[0m\u001b[0;34m,\u001b[0m \u001b[0mpossibly_batched_index\u001b[0m\u001b[0;34m)\u001b[0m\u001b[0;34m:\u001b[0m\u001b[0;34m\u001b[0m\u001b[0;34m\u001b[0m\u001b[0m\n\u001b[1;32m     48\u001b[0m         \u001b[0;32mif\u001b[0m \u001b[0mself\u001b[0m\u001b[0;34m.\u001b[0m\u001b[0mauto_collation\u001b[0m\u001b[0;34m:\u001b[0m\u001b[0;34m\u001b[0m\u001b[0;34m\u001b[0m\u001b[0m\n\u001b[0;32m---> 49\u001b[0;31m             \u001b[0mdata\u001b[0m \u001b[0;34m=\u001b[0m \u001b[0;34m[\u001b[0m\u001b[0mself\u001b[0m\u001b[0;34m.\u001b[0m\u001b[0mdataset\u001b[0m\u001b[0;34m[\u001b[0m\u001b[0midx\u001b[0m\u001b[0;34m]\u001b[0m \u001b[0;32mfor\u001b[0m \u001b[0midx\u001b[0m \u001b[0;32min\u001b[0m \u001b[0mpossibly_batched_index\u001b[0m\u001b[0;34m]\u001b[0m\u001b[0;34m\u001b[0m\u001b[0;34m\u001b[0m\u001b[0m\n\u001b[0m\u001b[1;32m     50\u001b[0m         \u001b[0;32melse\u001b[0m\u001b[0;34m:\u001b[0m\u001b[0;34m\u001b[0m\u001b[0;34m\u001b[0m\u001b[0m\n\u001b[1;32m     51\u001b[0m             \u001b[0mdata\u001b[0m \u001b[0;34m=\u001b[0m \u001b[0mself\u001b[0m\u001b[0;34m.\u001b[0m\u001b[0mdataset\u001b[0m\u001b[0;34m[\u001b[0m\u001b[0mpossibly_batched_index\u001b[0m\u001b[0;34m]\u001b[0m\u001b[0;34m\u001b[0m\u001b[0;34m\u001b[0m\u001b[0m\n",
            "\u001b[0;32m/usr/local/lib/python3.7/dist-packages/torch/utils/data/_utils/fetch.py\u001b[0m in \u001b[0;36m<listcomp>\u001b[0;34m(.0)\u001b[0m\n\u001b[1;32m     47\u001b[0m     \u001b[0;32mdef\u001b[0m \u001b[0mfetch\u001b[0m\u001b[0;34m(\u001b[0m\u001b[0mself\u001b[0m\u001b[0;34m,\u001b[0m \u001b[0mpossibly_batched_index\u001b[0m\u001b[0;34m)\u001b[0m\u001b[0;34m:\u001b[0m\u001b[0;34m\u001b[0m\u001b[0;34m\u001b[0m\u001b[0m\n\u001b[1;32m     48\u001b[0m         \u001b[0;32mif\u001b[0m \u001b[0mself\u001b[0m\u001b[0;34m.\u001b[0m\u001b[0mauto_collation\u001b[0m\u001b[0;34m:\u001b[0m\u001b[0;34m\u001b[0m\u001b[0;34m\u001b[0m\u001b[0m\n\u001b[0;32m---> 49\u001b[0;31m             \u001b[0mdata\u001b[0m \u001b[0;34m=\u001b[0m \u001b[0;34m[\u001b[0m\u001b[0mself\u001b[0m\u001b[0;34m.\u001b[0m\u001b[0mdataset\u001b[0m\u001b[0;34m[\u001b[0m\u001b[0midx\u001b[0m\u001b[0;34m]\u001b[0m \u001b[0;32mfor\u001b[0m \u001b[0midx\u001b[0m \u001b[0;32min\u001b[0m \u001b[0mpossibly_batched_index\u001b[0m\u001b[0;34m]\u001b[0m\u001b[0;34m\u001b[0m\u001b[0;34m\u001b[0m\u001b[0m\n\u001b[0m\u001b[1;32m     50\u001b[0m         \u001b[0;32melse\u001b[0m\u001b[0;34m:\u001b[0m\u001b[0;34m\u001b[0m\u001b[0;34m\u001b[0m\u001b[0m\n\u001b[1;32m     51\u001b[0m             \u001b[0mdata\u001b[0m \u001b[0;34m=\u001b[0m \u001b[0mself\u001b[0m\u001b[0;34m.\u001b[0m\u001b[0mdataset\u001b[0m\u001b[0;34m[\u001b[0m\u001b[0mpossibly_batched_index\u001b[0m\u001b[0;34m]\u001b[0m\u001b[0;34m\u001b[0m\u001b[0;34m\u001b[0m\u001b[0m\n",
            "\u001b[0;32m/content/utils/ssd_model.py\u001b[0m in \u001b[0;36m__getitem__\u001b[0;34m(self, index)\u001b[0m\n\u001b[1;32m    238\u001b[0m         \u001b[0m前処理をした画像のテンソル形式のデータとアノテーションを取得\u001b[0m\u001b[0;34m\u001b[0m\u001b[0;34m\u001b[0m\u001b[0m\n\u001b[1;32m    239\u001b[0m         '''\n\u001b[0;32m--> 240\u001b[0;31m         \u001b[0mim\u001b[0m\u001b[0;34m,\u001b[0m \u001b[0mgt\u001b[0m\u001b[0;34m,\u001b[0m \u001b[0mh\u001b[0m\u001b[0;34m,\u001b[0m \u001b[0mw\u001b[0m \u001b[0;34m=\u001b[0m \u001b[0mself\u001b[0m\u001b[0;34m.\u001b[0m\u001b[0mpull_item\u001b[0m\u001b[0;34m(\u001b[0m\u001b[0mindex\u001b[0m\u001b[0;34m)\u001b[0m\u001b[0;34m\u001b[0m\u001b[0;34m\u001b[0m\u001b[0m\n\u001b[0m\u001b[1;32m    241\u001b[0m         \u001b[0;32mreturn\u001b[0m \u001b[0mim\u001b[0m\u001b[0;34m,\u001b[0m \u001b[0mgt\u001b[0m\u001b[0;34m\u001b[0m\u001b[0;34m\u001b[0m\u001b[0m\n\u001b[1;32m    242\u001b[0m \u001b[0;34m\u001b[0m\u001b[0m\n",
            "\u001b[0;32m/content/utils/ssd_model.py\u001b[0m in \u001b[0;36mpull_item\u001b[0;34m(self, index)\u001b[0m\n\u001b[1;32m    246\u001b[0m         \u001b[0;31m# 1. 画像読み込み\u001b[0m\u001b[0;34m\u001b[0m\u001b[0;34m\u001b[0m\u001b[0;34m\u001b[0m\u001b[0m\n\u001b[1;32m    247\u001b[0m         \u001b[0mimage_file_path\u001b[0m \u001b[0;34m=\u001b[0m \u001b[0mself\u001b[0m\u001b[0;34m.\u001b[0m\u001b[0mimg_list\u001b[0m\u001b[0;34m[\u001b[0m\u001b[0mindex\u001b[0m\u001b[0;34m]\u001b[0m\u001b[0;34m\u001b[0m\u001b[0;34m\u001b[0m\u001b[0m\n\u001b[0;32m--> 248\u001b[0;31m         \u001b[0mimg\u001b[0m \u001b[0;34m=\u001b[0m \u001b[0mcv2\u001b[0m\u001b[0;34m.\u001b[0m\u001b[0mimread\u001b[0m\u001b[0;34m(\u001b[0m\u001b[0mimage_file_path\u001b[0m\u001b[0;34m)\u001b[0m  \u001b[0;31m# [高さ][幅][色BGR]\u001b[0m\u001b[0;34m\u001b[0m\u001b[0;34m\u001b[0m\u001b[0m\n\u001b[0m\u001b[1;32m    249\u001b[0m         \u001b[0mheight\u001b[0m\u001b[0;34m,\u001b[0m \u001b[0mwidth\u001b[0m\u001b[0;34m,\u001b[0m \u001b[0mchannels\u001b[0m \u001b[0;34m=\u001b[0m \u001b[0mimg\u001b[0m\u001b[0;34m.\u001b[0m\u001b[0mshape\u001b[0m  \u001b[0;31m# 画像のサイズを取得\u001b[0m\u001b[0;34m\u001b[0m\u001b[0;34m\u001b[0m\u001b[0m\n\u001b[1;32m    250\u001b[0m \u001b[0;34m\u001b[0m\u001b[0m\n",
            "\u001b[0;31mKeyboardInterrupt\u001b[0m: "
          ]
        }
      ]
    }
  ]
}